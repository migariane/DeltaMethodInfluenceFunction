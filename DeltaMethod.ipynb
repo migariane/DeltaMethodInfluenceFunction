{
  "nbformat": 4,
  "nbformat_minor": 0,
  "metadata": {
    "colab": {
      "name": "DeltaMethod.ipynb",
      "provenance": [],
      "collapsed_sections": [],
      "authorship_tag": "ABX9TyM4B6OUH+WdkJmnKoUCcAMQ",
      "include_colab_link": true
    },
    "kernelspec": {
      "name": "python3",
      "display_name": "Python 3"
    },
    "language_info": {
      "name": "python"
    }
  },
  "cells": [
    {
      "cell_type": "markdown",
      "metadata": {
        "id": "view-in-github",
        "colab_type": "text"
      },
      "source": [
        "<a href=\"https://colab.research.google.com/github/migariane/DeltaMethodInfluenceFunction/blob/main/DeltaMethod.ipynb\" target=\"_parent\"><img src=\"https://colab.research.google.com/assets/colab-badge.svg\" alt=\"Open In Colab\"/></a>"
      ]
    },
    {
      "cell_type": "markdown",
      "source": [
        "# Delta Method\n",
        "\n",
        "Code for reproducing all the results in the paper _The Delta-method and influence function in epidemiology: a reproducible tutorial_"
      ],
      "metadata": {
        "id": "S6Rv3OJ5UV-F"
      }
    },
    {
      "cell_type": "code",
      "execution_count": 1,
      "metadata": {
        "id": "tWFqQ2tdeFwl"
      },
      "outputs": [],
      "source": [
        "%pip install --upgrade --quiet --force-reinstall \"sympy>=1.10.0\""
      ]
    },
    {
      "cell_type": "code",
      "source": [
        "#We'll use the sympy library for symbolic computation of variances and expected values\n",
        "import sympy\n",
        "from sympy import * \n",
        "from sympy.stats import Variance, Expectation, Covariance, Binomial\n",
        "from sympy.stats.rv import RandomSymbol\n",
        "sympy.__version__   #version of sympy should be >=1.10"
      ],
      "metadata": {
        "colab": {
          "base_uri": "https://localhost:8080/",
          "height": 35
        },
        "id": "DoQ4DG53Zewg",
        "outputId": "93814d4f-2800-4b9f-d812-587a27e1f090"
      },
      "execution_count": 2,
      "outputs": [
        {
          "output_type": "execute_result",
          "data": {
            "application/vnd.google.colaboratory.intrinsic+json": {
              "type": "string"
            },
            "text/plain": [
              "'1.10'"
            ]
          },
          "metadata": {},
          "execution_count": 2
        }
      ]
    },
    {
      "cell_type": "markdown",
      "source": [
        "## Introduction to Sympy\n",
        "[Sympy](https://docs.sympy.org/latest/guides/getting_started/install.html) is a computer algebra system for symbolic calculation. In order to use it you need to declare variables using `Symbol`:"
      ],
      "metadata": {
        "id": "nq8XGKmmVV9A"
      }
    },
    {
      "cell_type": "code",
      "source": [
        "x = Symbol(\"x\")\n",
        "y = Symbol(\"y\")"
      ],
      "metadata": {
        "id": "PGv6cavcVVZz"
      },
      "execution_count": 3,
      "outputs": []
    },
    {
      "cell_type": "markdown",
      "source": [
        "You can use the `Symbol`s to generate algebraic expressions such as:"
      ],
      "metadata": {
        "id": "70Km-x_FWHSK"
      }
    },
    {
      "cell_type": "code",
      "source": [
        "squarexy = pow((x + y),2) #(x + y)^2"
      ],
      "metadata": {
        "id": "jB2KcrTdV1r_"
      },
      "execution_count": 4,
      "outputs": []
    },
    {
      "cell_type": "markdown",
      "source": [
        "which can be expanded, derived and integrated:"
      ],
      "metadata": {
        "id": "fWM3VAWPWSok"
      }
    },
    {
      "cell_type": "code",
      "source": [
        "expand(squarexy)"
      ],
      "metadata": {
        "colab": {
          "base_uri": "https://localhost:8080/",
          "height": 38
        },
        "id": "FaCo9eTvV7Gk",
        "outputId": "29f7c325-06fa-4a12-eb71-eb53079a4b46"
      },
      "execution_count": 5,
      "outputs": [
        {
          "output_type": "execute_result",
          "data": {
            "text/latex": "$\\displaystyle x^{2} + 2 x y + y^{2}$",
            "text/plain": [
              "x**2 + 2*x*y + y**2"
            ]
          },
          "metadata": {},
          "execution_count": 5
        }
      ]
    },
    {
      "cell_type": "code",
      "source": [
        "diff(squarexy,x)"
      ],
      "metadata": {
        "colab": {
          "base_uri": "https://localhost:8080/",
          "height": 38
        },
        "id": "N0vFP_FqWcZM",
        "outputId": "061af691-07df-4473-cab1-f42188ea5737"
      },
      "execution_count": 6,
      "outputs": [
        {
          "output_type": "execute_result",
          "data": {
            "text/latex": "$\\displaystyle 2 x + 2 y$",
            "text/plain": [
              "2*x + 2*y"
            ]
          },
          "metadata": {},
          "execution_count": 6
        }
      ]
    },
    {
      "cell_type": "code",
      "source": [
        "integrate(squarexy, x)"
      ],
      "metadata": {
        "colab": {
          "base_uri": "https://localhost:8080/",
          "height": 54
        },
        "id": "OtphECsMWidP",
        "outputId": "8ebcdd2f-da0c-4c14-bc50-a4ddacc9cc8e"
      },
      "execution_count": 7,
      "outputs": [
        {
          "output_type": "execute_result",
          "data": {
            "text/latex": "$\\displaystyle \\frac{x^{3}}{3} + x^{2} y + x y^{2}$",
            "text/plain": [
              "x**3/3 + x**2*y + x*y**2"
            ]
          },
          "metadata": {},
          "execution_count": 7
        }
      ]
    },
    {
      "cell_type": "markdown",
      "source": [
        "Random variables can be declared with `RandomSymbol`:"
      ],
      "metadata": {
        "id": "l3r-O1nKXKNR"
      }
    },
    {
      "cell_type": "code",
      "source": [
        "#Declaration of random variables can be made via RandomSymbol and their \n",
        "#variance and expected values can be estimated and simplified\n",
        "X                = RandomSymbol('X')\n",
        "\n",
        "#Properties of expectation can be computed\n",
        "expectation_of_x = Expectation(3*X + 2)\n",
        "expectation_of_x.expand()"
      ],
      "metadata": {
        "colab": {
          "base_uri": "https://localhost:8080/",
          "height": 38
        },
        "id": "8oIi5dkZXOko",
        "outputId": "70a7d89a-25e8-409b-9a9e-a5c9bf397590"
      },
      "execution_count": 8,
      "outputs": [
        {
          "output_type": "execute_result",
          "data": {
            "text/latex": "$\\displaystyle 2 + 3 \\operatorname{E}\\left[X\\right]$",
            "text/plain": [
              "2 + 3*Expectation(X)"
            ]
          },
          "metadata": {},
          "execution_count": 8
        }
      ]
    },
    {
      "cell_type": "code",
      "source": [
        "#As well as properties of variance\n",
        "variance_of_x    = Variance(3*X + 2)\n",
        "variance_of_x.expand()"
      ],
      "metadata": {
        "colab": {
          "base_uri": "https://localhost:8080/",
          "height": 38
        },
        "id": "yU8acYkkdJc2",
        "outputId": "3ec9ce00-d98f-4930-ecb7-06cb8ea1fa6c"
      },
      "execution_count": 9,
      "outputs": [
        {
          "output_type": "execute_result",
          "data": {
            "text/latex": "$\\displaystyle 9 \\operatorname{Var}\\left(X\\right)$",
            "text/plain": [
              "9*Variance(X)"
            ]
          },
          "metadata": {},
          "execution_count": 9
        }
      ]
    },
    {
      "cell_type": "markdown",
      "source": [
        "## Delta-method for the mean\n",
        "\n",
        "First we declare the constants: $\\mu$, $\\sigma^2$ and $n$ corresponding to the mean, variance and sample size. We also declare the random variable $\\bar{X}$ corresponding to the sample mean which has mean $\\mu$ and variance $\\sigma^2/n$ "
      ],
      "metadata": {
        "id": "EE1Kswtad7WX"
      }
    },
    {
      "cell_type": "code",
      "source": [
        "#Declaration of constants (Symbol) and random variables (RandomSymbol)\n",
        "mu       = Symbol('mu')\n",
        "sigmasq  = Symbol('sigma^2', positive = True) #Variance of x\n",
        "n        = Symbol('n', positive = True, integer = True)\n",
        "Xbar     = RandomSymbol('Xbar') "
      ],
      "metadata": {
        "id": "WZdx2bFhenPw"
      },
      "execution_count": 10,
      "outputs": []
    },
    {
      "cell_type": "markdown",
      "source": [
        "We write the function $\\phi$ as a function of $\\mu$ _i.e._ $\\phi(\\mu) =  \\mu$:"
      ],
      "metadata": {
        "id": "9GFeYJnoe53O"
      }
    },
    {
      "cell_type": "code",
      "source": [
        "#Declaring phi as a function of mu\n",
        "def phi(mu):\n",
        "    return mu"
      ],
      "metadata": {
        "id": "_ju3tpMPe1D1"
      },
      "execution_count": 11,
      "outputs": []
    },
    {
      "cell_type": "markdown",
      "source": [
        "We calculate the derivative: $\\frac{\\partial \\phi}{\\partial \\mu}$:"
      ],
      "metadata": {
        "id": "PZVmO7EEfynp"
      }
    },
    {
      "cell_type": "markdown",
      "source": [
        ""
      ],
      "metadata": {
        "id": "XAmXaqf3zRUA"
      }
    },
    {
      "cell_type": "code",
      "source": [
        "#Obtaining the derivative\n",
        "classical_derivative = derive_by_array(phi(mu), mu)"
      ],
      "metadata": {
        "id": "bJmMWrUle5ce"
      },
      "execution_count": 12,
      "outputs": []
    },
    {
      "cell_type": "markdown",
      "source": [
        "We then calculate the direction vector for the Hadamard derivative $v = \\bar{X} - \\mu$:"
      ],
      "metadata": {
        "id": "sU9xhknQgFUR"
      }
    },
    {
      "cell_type": "code",
      "source": [
        "v = Xbar - mu"
      ],
      "metadata": {
        "id": "I6RmnKjBfyg1"
      },
      "execution_count": 13,
      "outputs": []
    },
    {
      "cell_type": "markdown",
      "source": [
        "The Hadamard derivative in the direction of $v$ (that is $ \\partial_{\\hat{\\theta} - \\theta}$) is thus:"
      ],
      "metadata": {
        "id": "EzjSy3eggky5"
      }
    },
    {
      "cell_type": "code",
      "source": [
        "hadamard = classical_derivative*v"
      ],
      "metadata": {
        "id": "Jd2r195TgPPR"
      },
      "execution_count": 14,
      "outputs": []
    },
    {
      "cell_type": "markdown",
      "source": [
        "And the approximation is obtained by computing the right side of:\n",
        "$$\n",
        "\\phi(\\hat{\\theta}) = \\phi(\\theta)  + \\partial_{\\hat{\\theta} - \\theta} \\phi(\\theta)\n",
        "$$"
      ],
      "metadata": {
        "id": "DIuFuoYbhAgT"
      }
    },
    {
      "cell_type": "code",
      "source": [
        "phi(mu) + hadamard"
      ],
      "metadata": {
        "colab": {
          "base_uri": "https://localhost:8080/",
          "height": 37
        },
        "id": "5vD9jR23gtY0",
        "outputId": "bb202976-0c7e-4a95-af4a-3a69c0d8fad7"
      },
      "execution_count": 15,
      "outputs": [
        {
          "output_type": "execute_result",
          "data": {
            "text/latex": "$\\displaystyle \\bar{X}$",
            "text/plain": [
              "Xbar"
            ]
          },
          "metadata": {},
          "execution_count": 15
        }
      ]
    },
    {
      "cell_type": "markdown",
      "source": [
        "Hence the Delta-method's approximation to the variance is:"
      ],
      "metadata": {
        "id": "fpHQP0iMvFdh"
      }
    },
    {
      "cell_type": "code",
      "source": [
        "delta_variance = Variance(phi(mu) + hadamard).expand()"
      ],
      "metadata": {
        "id": "BWU77PwxhdKi"
      },
      "execution_count": 16,
      "outputs": []
    },
    {
      "cell_type": "markdown",
      "source": [
        "and we know from classical inference that $\\text{Var}(\\bar{X}) = \\frac{\\sigma^2}{n}$"
      ],
      "metadata": {
        "id": "j-9JvKVNwXCW"
      }
    },
    {
      "cell_type": "code",
      "source": [
        "delta_variance.subs(Variance(Xbar), sigmasq/n)"
      ],
      "metadata": {
        "colab": {
          "base_uri": "https://localhost:8080/",
          "height": 54
        },
        "id": "ssusXoZHwf-R",
        "outputId": "0ac39103-5174-4d8d-d473-8a5dfe50cfcb"
      },
      "execution_count": 17,
      "outputs": [
        {
          "output_type": "execute_result",
          "data": {
            "text/latex": "$\\displaystyle \\frac{\\sigma^{2}}{n}$",
            "text/plain": [
              "sigma^2/n"
            ]
          },
          "metadata": {},
          "execution_count": 17
        }
      ]
    },
    {
      "cell_type": "markdown",
      "source": [
        "## Delta-method for the variance of the ratio of two sample means\n",
        "\n",
        "Let $\\{X_1, \\dots, X_n\\}$ denote a random sample of variables $X$ with mean $\\mu_X$ and variance $\\sigma^2_X$ and  $\\{Y_1, \\dots, Y_n\\}$ denote a random sample of variables $Y$ with mean $\\mu_Y$ and variance $\\sigma^2_Y$ we are interested in approximating the variance of \n",
        "\n",
        "$$\n",
        "\\phi(\\mu_X,\\mu_Y) = \\frac{\\mu_X}{\\mu_Y}\n",
        "$$\n",
        "\n",
        "to so we declare the symbols $\\bar{X},\\bar{Y},\\mu_X,\\mu_Y$ and the function $\\phi$:"
      ],
      "metadata": {
        "id": "r5X1LawwxGY5"
      }
    },
    {
      "cell_type": "code",
      "source": [
        "#Declaration of variables\n",
        "mu_x       = Symbol('mu_x')\n",
        "mu_y       = Symbol('mu_y')\n",
        "n          = Symbol('n', positive=True, integer = True) #Sample size of X and Y\n",
        "sigmasq_x  = Symbol('sigma^2_X', positive = True) \n",
        "sigmasq_y  = Symbol('sigma^2_Y', positive = True) \n",
        "sigma_xy   = Symbol('sigma_xy') #Covariance\n",
        "Xbar       = RandomSymbol('Xbar')\n",
        "Ybar       = RandomSymbol('Ybar')  \n",
        "\n",
        "#Declaration of function\n",
        "def phi(mu_x, mu_y):\n",
        "  return mu_x/mu_y"
      ],
      "metadata": {
        "id": "GONOS7vVyHCg"
      },
      "execution_count": 18,
      "outputs": []
    },
    {
      "cell_type": "markdown",
      "source": [
        "We calculate the derivative (in this case, gradient) in the direction of \n",
        "$$\n",
        "v = \\begin{pmatrix}\n",
        "    \\bar{X} - \\mu_X\\\\\n",
        "    \\bar{Y} - \\mu_Y\n",
        "    \\end{pmatrix}\n",
        "$$"
      ],
      "metadata": {
        "id": "OLfiD_DDzSMH"
      }
    },
    {
      "cell_type": "code",
      "source": [
        "#Obtain the direction vector\n",
        "v = Matrix([Xbar - mu_x, Ybar - mu_y])\n",
        "\n",
        "#And calculate the gradient\n",
        "grad = derive_by_array(phi(mu_x,mu_y), [mu_x, mu_y])\n",
        "grad = Matrix(grad)\n",
        "\n",
        "#Thus calculating the Hadamard (directional) derivative:\n",
        "hadamard = grad.dot(v)\n",
        "hadamard"
      ],
      "metadata": {
        "colab": {
          "base_uri": "https://localhost:8080/",
          "height": 62
        },
        "id": "52ngH10pzgiO",
        "outputId": "1c614dbb-8491-42ee-925d-b18468d2b4f5"
      },
      "execution_count": 19,
      "outputs": [
        {
          "output_type": "execute_result",
          "data": {
            "text/latex": "$\\displaystyle - \\frac{\\mu_{x} \\left(- \\mu_{y} + \\bar{Y}\\right)}{\\mu_{y}^{2}} + \\frac{- \\mu_{x} + \\bar{X}}{\\mu_{y}}$",
            "text/plain": [
              "-mu_x*(-mu_y + Ybar)/mu_y**2 + (-mu_x + Xbar)/mu_y"
            ]
          },
          "metadata": {},
          "execution_count": 19
        }
      ]
    },
    {
      "cell_type": "markdown",
      "source": [
        "The variance of the hadamard derivative (influence function) is estimated as follows:"
      ],
      "metadata": {
        "id": "IXe6tncH0XOL"
      }
    },
    {
      "cell_type": "code",
      "source": [
        "variance_expanded = Variance(hadamard).expand().simplify()\n",
        "variance_expanded"
      ],
      "metadata": {
        "colab": {
          "base_uri": "https://localhost:8080/",
          "height": 63
        },
        "id": "5HrYd-K90cYd",
        "outputId": "c0286e56-28a2-4893-ee6e-a8e11193892f"
      },
      "execution_count": 20,
      "outputs": [
        {
          "output_type": "execute_result",
          "data": {
            "text/latex": "$\\displaystyle \\frac{\\mu_{x}^{2} \\operatorname{Var}\\left(\\bar{Y}\\right) - 2 \\mu_{x} \\mu_{y} \\operatorname{Cov}\\left(\\bar{X}, \\bar{Y}\\right) + \\mu_{y}^{2} \\operatorname{Var}\\left(\\bar{X}\\right)}{\\mu_{y}^{4}}$",
            "text/plain": [
              "(mu_x**2*Variance(Ybar) - 2*mu_x*mu_y*Covariance(Xbar, Ybar) + mu_y**2*Variance(Xbar))/mu_y**4"
            ]
          },
          "metadata": {},
          "execution_count": 20
        }
      ]
    },
    {
      "cell_type": "markdown",
      "source": [
        "We can further simplify by substituting the variances of $\\bar{X}$ and $\\bar{Y} as well as the covariances$:"
      ],
      "metadata": {
        "id": "hVtJl2O_0rgx"
      }
    },
    {
      "cell_type": "code",
      "source": [
        "variance_expanded = variance_expanded.subs(Covariance(Xbar,Ybar), sigma_xy/n)\n",
        "variance_expanded = variance_expanded.subs(Variance(Xbar), sigmasq_x/n)\n",
        "variance_expanded = variance_expanded.subs(Variance(Ybar), sigmasq_y/n)\n",
        "\n",
        "variance_expanded.simplify()"
      ],
      "metadata": {
        "colab": {
          "base_uri": "https://localhost:8080/",
          "height": 62
        },
        "id": "sm0Vyt5204vT",
        "outputId": "706e5f7b-748d-4ba2-d584-bcf224b01df7"
      },
      "execution_count": 21,
      "outputs": [
        {
          "output_type": "execute_result",
          "data": {
            "text/latex": "$\\displaystyle \\frac{\\mu_{x}^{2} \\sigma^{2}_{Y} - 2 \\mu_{x} \\mu_{y} \\sigma_{xy} + \\mu_{y}^{2} \\sigma^{2}_{X}}{\\mu_{y}^{4} n}$",
            "text/plain": [
              "(mu_x**2*sigma^2_Y - 2*mu_x*mu_y*sigma_xy + mu_y**2*sigma^2_X)/(mu_y**4*n)"
            ]
          },
          "metadata": {},
          "execution_count": 21
        }
      ]
    },
    {
      "cell_type": "markdown",
      "source": [
        "## Delta-method for the risk ratio\n",
        "Consider the risk ratio for two probabilities defined by:\n",
        "$$\n",
        "RR(p_1,p_2) = \\frac{p_1}{p_2}\n",
        "$$\n",
        "and the transformation $\\phi$ given by:\n",
        "$$\n",
        "\\phi(p_1,p_2) = \\log\\big(RR(p_1,p_2)\\big)\n",
        "$$\n",
        "In this case, a random sample of $N_1$ elements of one category and $N_2$ elements of a second (independent) category with respective probabilities $p_1$ and $p_2$ result in estimators $\\hat{p}_1$ and $\\hat{p}_2$ which we declare:"
      ],
      "metadata": {
        "id": "4-5kak7M1xQO"
      }
    },
    {
      "cell_type": "code",
      "source": [
        "#Declaration of variables\n",
        "p_1       = Symbol('p_1')\n",
        "p_2       = Symbol('p_2')\n",
        "p_1hat    = RandomSymbol('phat_1')\n",
        "p_2hat    = RandomSymbol('phat_2')  \n",
        "N_1       = Symbol('N_1', positive=True, integer = True) #Sample size asssociated to p1\n",
        "N_2       = Symbol('N_2', positive=True, integer = True) #Sample size asssociated to p2\n",
        "\n",
        "#Declaration of relative risk function\n",
        "def RR(p_1, p_2):\n",
        "  return p_1/p_2\n",
        "\n",
        "#Declaration of phi for delta method\n",
        "def phi(p_1, p_2):\n",
        "  return log(RR(p_1, p_2));"
      ],
      "metadata": {
        "id": "le_e-Yws3N1q"
      },
      "execution_count": 22,
      "outputs": []
    },
    {
      "cell_type": "markdown",
      "source": [
        "The derivative is given by:"
      ],
      "metadata": {
        "id": "uQBhVXbg3mqR"
      }
    },
    {
      "cell_type": "code",
      "source": [
        "#Obtain the direction vector\n",
        "v = Matrix([p_1hat - p_1, p_2hat - p_2])\n",
        "\n",
        "#And calculate the gradient\n",
        "grad = derive_by_array(phi(p_1,p_2), [p_1, p_2])\n",
        "grad = Matrix(grad)\n",
        "\n",
        "#Thus calculating the Hadamard (directional) derivative:\n",
        "hadamard = grad.dot(v)\n",
        "hadamard"
      ],
      "metadata": {
        "colab": {
          "base_uri": "https://localhost:8080/",
          "height": 55
        },
        "id": "9gjN_yag3pbq",
        "outputId": "35798294-e39a-4b82-832c-79222e8b79e6"
      },
      "execution_count": 23,
      "outputs": [
        {
          "output_type": "execute_result",
          "data": {
            "text/latex": "$\\displaystyle - \\frac{- p_{2} + \\hat{p}_{2}}{p_{2}} + \\frac{- p_{1} + \\hat{p}_{1}}{p_{1}}$",
            "text/plain": [
              "-(-p_2 + phat_2)/p_2 + (-p_1 + phat_1)/p_1"
            ]
          },
          "metadata": {},
          "execution_count": 23
        }
      ]
    },
    {
      "cell_type": "markdown",
      "source": [
        "And the variance where we use that $\\text{Var}(\\hat{p}_i) = p_i(1-p_i)/N_i$ and that the covariance is zero due to independence"
      ],
      "metadata": {
        "id": "rt7BwVlF4HLm"
      }
    },
    {
      "cell_type": "code",
      "source": [
        "variance_expanded = Variance(hadamard).expand().simplify()\n",
        "variance_expanded"
      ],
      "metadata": {
        "colab": {
          "base_uri": "https://localhost:8080/",
          "height": 57
        },
        "id": "2H1ETE_X4QN7",
        "outputId": "150d1938-d71e-42e7-ece0-cafaed43bb57"
      },
      "execution_count": 24,
      "outputs": [
        {
          "output_type": "execute_result",
          "data": {
            "text/latex": "$\\displaystyle \\frac{\\operatorname{Var}\\left(\\hat{p}_{2}\\right)}{p_{2}^{2}} - \\frac{2 \\operatorname{Cov}\\left(\\hat{p}_{1}, \\hat{p}_{2}\\right)}{p_{1} p_{2}} + \\frac{\\operatorname{Var}\\left(\\hat{p}_{1}\\right)}{p_{1}^{2}}$",
            "text/plain": [
              "Variance(phat_2)/p_2**2 - 2*Covariance(phat_1, phat_2)/(p_1*p_2) + Variance(phat_1)/p_1**2"
            ]
          },
          "metadata": {},
          "execution_count": 24
        }
      ]
    },
    {
      "cell_type": "markdown",
      "source": [
        "Which can be simplified into:"
      ],
      "metadata": {
        "id": "7j-_-prz4bPe"
      }
    },
    {
      "cell_type": "code",
      "source": [
        "variance_expanded = variance_expanded.subs(Covariance(p_1hat,p_2hat), 0.0)\n",
        "variance_expanded = variance_expanded.subs(Variance(p_1hat), p_1*(1 - p_1)/N_1)\n",
        "variance_expanded = variance_expanded.subs(Variance(p_2hat), p_2*(1 - p_2)/N_2)\n",
        "\n",
        "variance_expanded"
      ],
      "metadata": {
        "colab": {
          "base_uri": "https://localhost:8080/",
          "height": 54
        },
        "id": "D7qbcvXB4cyN",
        "outputId": "0843bb65-718a-4c8c-cb55-60e1cbc6d54e"
      },
      "execution_count": 25,
      "outputs": [
        {
          "output_type": "execute_result",
          "data": {
            "text/latex": "$\\displaystyle \\frac{1 - p_{2}}{N_{2} p_{2}} + \\frac{1 - p_{1}}{N_{1} p_{1}}$",
            "text/plain": [
              "(1 - p_2)/(N_2*p_2) + (1 - p_1)/(N_1*p_1)"
            ]
          },
          "metadata": {},
          "execution_count": 25
        }
      ]
    },
    {
      "cell_type": "markdown",
      "source": [
        "## Counterexample\n",
        "\n",
        "Consider the attributable fraction among the exposed for an exposure level $x$ given by:\n",
        "$$\n",
        "\\textrm{AF}_e(x) = \\dfrac{RR(\\theta,x)-1}{RR(\\theta,x)}.\n",
        "$$\n",
        "we compute the expansion around $x = 0$:"
      ],
      "metadata": {
        "id": "B4NilYCf5nZd"
      }
    },
    {
      "cell_type": "code",
      "source": [
        "#Declaration of variables\n",
        "x         = Symbol('x')\n",
        "theta     = Symbol('theta', positive = True)\n",
        "\n",
        "#Declaration of relative risk function\n",
        "def RR(x, theta):\n",
        "  return exp(theta/x)\n",
        "\n",
        "#Declaration of phi for delta method\n",
        "def AF(x, theta):\n",
        "  return (RR(x,theta) - 1)/RR(x, theta);\n",
        "\n",
        "#The derivative at x = 0 exists and is zero for positive theta\n",
        "derivative = diff(AF(x,theta),x)\n",
        "limit(derivative, x, 0)"
      ],
      "metadata": {
        "colab": {
          "base_uri": "https://localhost:8080/",
          "height": 37
        },
        "id": "cvC_Xr5353d6",
        "outputId": "bdc8f68b-7d55-49b3-d92c-9523194add9a"
      },
      "execution_count": 26,
      "outputs": [
        {
          "output_type": "execute_result",
          "data": {
            "text/latex": "$\\displaystyle 0$",
            "text/plain": [
              "0"
            ]
          },
          "metadata": {},
          "execution_count": 26
        }
      ]
    },
    {
      "cell_type": "code",
      "source": [
        "#This happens for any order (n) of the Taylor expansion as you can verify;\n",
        "series(AF(x, 1), x0 = 0, n = 10).removeO()"
      ],
      "metadata": {
        "colab": {
          "base_uri": "https://localhost:8080/",
          "height": 37
        },
        "id": "J6BCRPQY-Dcw",
        "outputId": "a326da25-e09c-431e-a77d-1206c3083056"
      },
      "execution_count": 27,
      "outputs": [
        {
          "output_type": "execute_result",
          "data": {
            "text/latex": "$\\displaystyle 0$",
            "text/plain": [
              "0"
            ]
          },
          "metadata": {},
          "execution_count": 27
        }
      ]
    },
    {
      "cell_type": "markdown",
      "source": [
        "## Higher order Delta-method\n",
        "For example, if we wish to estimate the Taylor series for $p\\cdot(1-p)$ around $1/2$:"
      ],
      "metadata": {
        "id": "x4sajZlQ-Nhl"
      }
    },
    {
      "cell_type": "code",
      "source": [
        "#Get the variables\n",
        "p    = Symbol('p', positive=True)\n",
        "phat = RandomSymbol('phat')\n",
        "\n",
        "#Define the function\n",
        "def phi(p):\n",
        "  return p*(1 - p)\n",
        "\n",
        "#3rd order Taylor series\n",
        "taylorseries = series(phi(phat), x0 = 1/2, n = 3).removeO()\n",
        "\n",
        "#get the variance\n",
        "variance_taylor = Variance(taylorseries).expand()\n",
        "variance_taylor"
      ],
      "metadata": {
        "colab": {
          "base_uri": "https://localhost:8080/",
          "height": 48
        },
        "id": "yRnMSc0z-WlD",
        "outputId": "bd9f299d-2cbd-4a52-901f-6ef63c6594d5"
      },
      "execution_count": 28,
      "outputs": [
        {
          "output_type": "execute_result",
          "data": {
            "text/latex": "$\\displaystyle \\operatorname{Var}\\left(\\left(\\hat{p} - 0.5\\right)^{2}\\right)$",
            "text/plain": [
              "Variance((phat - 0.5)**2)"
            ]
          },
          "metadata": {},
          "execution_count": 28
        }
      ]
    },
    {
      "cell_type": "markdown",
      "source": [
        "It is well known that for a sample of size $n$, the variable $B_n = n \\cdot \\hat{p}$ corresponds to a $\\text{Binomial}(n,p)$ this allows us to rewrite the expression above in terms of $B$ to improve the estimation. \n",
        "\n",
        "As an example we'll consider $n = 100$ (for now `sympy` can't evaluate with generic $n$)"
      ],
      "metadata": {
        "id": "__wbNBNW_mDk"
      }
    },
    {
      "cell_type": "code",
      "source": [
        "#CAREFUL! THIS TAKES A WHILE TO EVALUATE\n",
        "#Declare the variable\n",
        "n   = 100\n",
        "B   = Binomial(\"B_n\", n, p)\n",
        "\n",
        "#Substitute phat = B_n / n\n",
        "sympy.stats.variance(taylorseries.subs(phat, B/n)).simplify()"
      ],
      "metadata": {
        "id": "LUwF8bEU_4rv"
      },
      "execution_count": null,
      "outputs": []
    },
    {
      "cell_type": "markdown",
      "source": [
        "Finally, we compute the value:"
      ],
      "metadata": {
        "id": "lvn6e_SoAmr2"
      }
    }
  ]
}