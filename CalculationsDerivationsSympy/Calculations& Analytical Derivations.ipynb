{
  "nbformat": 4,
  "nbformat_minor": 0,
  "metadata": {
    "colab": {
      "name": "DeltaMethod.ipynb",
      "provenance": [],
      "collapsed_sections": []
    },
    "kernelspec": {
      "name": "python3",
      "display_name": "Python 3"
    },
    "language_info": {
      "name": "python"
    }
  },
  "cells": [
    {
      "cell_type": "markdown",
      "source": [
        "# Delta Method\n",
        "\n",
        "Code for reproducing all the results for the **classical delta method** in the paper _The Delta-method and influence function in epidemiology: a reproducible tutorial_"
      ],
      "metadata": {
        "id": "S6Rv3OJ5UV-F"
      }
    },
    {
      "cell_type": "code",
      "execution_count": null,
      "metadata": {
        "id": "tWFqQ2tdeFwl",
        "colab": {
          "base_uri": "https://localhost:8080/"
        },
        "outputId": "852b5253-70cf-48c6-fcf0-af4cb3e33a95"
      },
      "outputs": [
        {
          "output_type": "stream",
          "name": "stdout",
          "text": [
            "\u001b[K     |████████████████████████████████| 6.4 MB 5.6 MB/s \n",
            "\u001b[K     |████████████████████████████████| 532 kB 41.7 MB/s \n",
            "\u001b[K     |████████████████████████████████| 63 kB 943 kB/s \n",
            "\u001b[?25h  Building wheel for session-info (setup.py) ... \u001b[?25l\u001b[?25hdone\n"
          ]
        }
      ],
      "source": [
        "%pip install --upgrade --quiet --force-reinstall \"sympy>=1.10.0\"\n",
        "%pip install --quiet \"session_info\""
      ]
    },
    {
      "cell_type": "code",
      "source": [
        "#We'll use the sympy library for symbolic computation of variances and expected values\n",
        "import sympy\n",
        "from sympy import * \n",
        "from sympy.stats import Variance, Expectation, Covariance, Binomial\n",
        "from sympy.stats.rv import RandomSymbol\n",
        "import session_info\n",
        "sympy.__version__   #version of sympy should be >=1.10"
      ],
      "metadata": {
        "colab": {
          "base_uri": "https://localhost:8080/",
          "height": 36
        },
        "id": "DoQ4DG53Zewg",
        "outputId": "b83e49d9-6ddb-4dec-e66b-f7063984908a"
      },
      "execution_count": null,
      "outputs": [
        {
          "output_type": "execute_result",
          "data": {
            "text/plain": [
              "'1.10.1'"
            ],
            "application/vnd.google.colaboratory.intrinsic+json": {
              "type": "string"
            }
          },
          "metadata": {},
          "execution_count": 3
        }
      ]
    },
    {
      "cell_type": "markdown",
      "source": [
        "## Introduction to Sympy\n",
        "[Sympy](https://docs.sympy.org/latest/guides/getting_started/install.html) is a computer algebra system for symbolic calculation. In order to use it you need to declare variables using `Symbol`:"
      ],
      "metadata": {
        "id": "nq8XGKmmVV9A"
      }
    },
    {
      "cell_type": "code",
      "source": [
        "x = Symbol(\"x\")\n",
        "y = Symbol(\"y\")"
      ],
      "metadata": {
        "id": "PGv6cavcVVZz"
      },
      "execution_count": null,
      "outputs": []
    },
    {
      "cell_type": "markdown",
      "source": [
        "You can use the `Symbol`s to generate algebraic expressions such as:"
      ],
      "metadata": {
        "id": "70Km-x_FWHSK"
      }
    },
    {
      "cell_type": "code",
      "source": [
        "squarexy = pow((x + y),2) #(x + y)^2"
      ],
      "metadata": {
        "id": "jB2KcrTdV1r_"
      },
      "execution_count": null,
      "outputs": []
    },
    {
      "cell_type": "markdown",
      "source": [
        "which can be expanded, derived and integrated:"
      ],
      "metadata": {
        "id": "fWM3VAWPWSok"
      }
    },
    {
      "cell_type": "code",
      "source": [
        "expand(squarexy)"
      ],
      "metadata": {
        "colab": {
          "base_uri": "https://localhost:8080/",
          "height": 38
        },
        "id": "FaCo9eTvV7Gk",
        "outputId": "1a815868-7b32-4912-debf-c25803b9a95f"
      },
      "execution_count": null,
      "outputs": [
        {
          "output_type": "execute_result",
          "data": {
            "text/plain": [
              "x**2 + 2*x*y + y**2"
            ],
            "text/latex": "$\\displaystyle x^{2} + 2 x y + y^{2}$"
          },
          "metadata": {},
          "execution_count": 6
        }
      ]
    },
    {
      "cell_type": "code",
      "source": [
        "diff(squarexy,x)"
      ],
      "metadata": {
        "colab": {
          "base_uri": "https://localhost:8080/",
          "height": 38
        },
        "id": "N0vFP_FqWcZM",
        "outputId": "b2560c32-bf5e-4de4-dfa9-9b3b1086c0f6"
      },
      "execution_count": null,
      "outputs": [
        {
          "output_type": "execute_result",
          "data": {
            "text/plain": [
              "2*x + 2*y"
            ],
            "text/latex": "$\\displaystyle 2 x + 2 y$"
          },
          "metadata": {},
          "execution_count": 7
        }
      ]
    },
    {
      "cell_type": "code",
      "source": [
        "integrate(squarexy, x)"
      ],
      "metadata": {
        "colab": {
          "base_uri": "https://localhost:8080/",
          "height": 54
        },
        "id": "OtphECsMWidP",
        "outputId": "c921234d-591b-4e3d-de69-ab17c6e57355"
      },
      "execution_count": null,
      "outputs": [
        {
          "output_type": "execute_result",
          "data": {
            "text/plain": [
              "x**3/3 + x**2*y + x*y**2"
            ],
            "text/latex": "$\\displaystyle \\frac{x^{3}}{3} + x^{2} y + x y^{2}$"
          },
          "metadata": {},
          "execution_count": 8
        }
      ]
    },
    {
      "cell_type": "markdown",
      "source": [
        "Random variables can be declared with `RandomSymbol`:"
      ],
      "metadata": {
        "id": "l3r-O1nKXKNR"
      }
    },
    {
      "cell_type": "code",
      "source": [
        "#Declaration of random variables can be made via RandomSymbol and their \n",
        "#variance and expected values can be estimated and simplified\n",
        "X                = RandomSymbol('X')\n",
        "\n",
        "#Properties of expectation can be computed\n",
        "expectation_of_x = Expectation(3*X + 2)\n",
        "expectation_of_x.expand()"
      ],
      "metadata": {
        "colab": {
          "base_uri": "https://localhost:8080/",
          "height": 38
        },
        "id": "8oIi5dkZXOko",
        "outputId": "a4911a7b-a689-438e-8bf3-66cdcc7b245b"
      },
      "execution_count": null,
      "outputs": [
        {
          "output_type": "execute_result",
          "data": {
            "text/plain": [
              "2 + 3*Expectation(X)"
            ],
            "text/latex": "$\\displaystyle 2 + 3 \\operatorname{E}\\left[X\\right]$"
          },
          "metadata": {},
          "execution_count": 9
        }
      ]
    },
    {
      "cell_type": "code",
      "source": [
        "#As well as properties of variance\n",
        "variance_of_x    = Variance(3*X + 2)\n",
        "variance_of_x.expand()"
      ],
      "metadata": {
        "colab": {
          "base_uri": "https://localhost:8080/",
          "height": 38
        },
        "id": "yU8acYkkdJc2",
        "outputId": "1f6c02a4-1169-4e4e-f604-0bcc3e3b2e0d"
      },
      "execution_count": null,
      "outputs": [
        {
          "output_type": "execute_result",
          "data": {
            "text/plain": [
              "9*Variance(X)"
            ],
            "text/latex": "$\\displaystyle 9 \\operatorname{Var}\\left(X\\right)$"
          },
          "metadata": {},
          "execution_count": 10
        }
      ]
    },
    {
      "cell_type": "markdown",
      "source": [
        "## 3.1 Delta-method for the mean (classical)\n",
        "\n",
        "First we declare the constants: $\\mu$, $\\sigma^2$ and $n$ corresponding to the mean, variance and sample size. We also declare the random variable $\\bar{X}$ corresponding to the sample mean which has mean $\\mu$ and variance $\\sigma^2/n$ "
      ],
      "metadata": {
        "id": "EE1Kswtad7WX"
      }
    },
    {
      "cell_type": "code",
      "source": [
        "#Declaration of constants (Symbol) and random variables (RandomSymbol)\n",
        "mu       = Symbol('mu')\n",
        "sigmasq  = Symbol('sigma^2', positive = True) #Variance of x\n",
        "n        = Symbol('n', positive = True, integer = True)\n",
        "Xbar     = RandomSymbol('Xbar') "
      ],
      "metadata": {
        "id": "WZdx2bFhenPw"
      },
      "execution_count": null,
      "outputs": []
    },
    {
      "cell_type": "markdown",
      "source": [
        "We write the function $\\phi$ as a function of $\\mu$ _i.e._ $\\phi(\\mu) =  \\mu$:"
      ],
      "metadata": {
        "id": "9GFeYJnoe53O"
      }
    },
    {
      "cell_type": "code",
      "source": [
        "#Declaring phi as a function of mu\n",
        "def phi(mu):\n",
        "    return mu"
      ],
      "metadata": {
        "id": "_ju3tpMPe1D1"
      },
      "execution_count": null,
      "outputs": []
    },
    {
      "cell_type": "markdown",
      "source": [
        "We calculate the derivative: $\\frac{\\partial \\phi}{\\partial \\mu}$:"
      ],
      "metadata": {
        "id": "PZVmO7EEfynp"
      }
    },
    {
      "cell_type": "markdown",
      "source": [
        ""
      ],
      "metadata": {
        "id": "XAmXaqf3zRUA"
      }
    },
    {
      "cell_type": "code",
      "source": [
        "#Obtaining the derivative\n",
        "classical_derivative = derive_by_array(phi(mu), mu)"
      ],
      "metadata": {
        "id": "bJmMWrUle5ce"
      },
      "execution_count": null,
      "outputs": []
    },
    {
      "cell_type": "markdown",
      "source": [
        "We then calculate the direction vector for the Hadamard derivative $v = \\bar{X} - \\mu$:"
      ],
      "metadata": {
        "id": "sU9xhknQgFUR"
      }
    },
    {
      "cell_type": "code",
      "source": [
        "v = Xbar - mu"
      ],
      "metadata": {
        "id": "I6RmnKjBfyg1"
      },
      "execution_count": null,
      "outputs": []
    },
    {
      "cell_type": "markdown",
      "source": [
        "The Hadamard derivative in the direction of $v$ (that is $ \\partial_{\\hat{\\theta} - \\theta}$) is thus:"
      ],
      "metadata": {
        "id": "EzjSy3eggky5"
      }
    },
    {
      "cell_type": "code",
      "source": [
        "hadamard = classical_derivative*v"
      ],
      "metadata": {
        "id": "Jd2r195TgPPR"
      },
      "execution_count": null,
      "outputs": []
    },
    {
      "cell_type": "markdown",
      "source": [
        "And the approximation is obtained by computing the right side of:\n",
        "$$\n",
        "\\phi(\\hat{\\theta}) = \\phi(\\theta)  + \\partial_{\\hat{\\theta} - \\theta} \\phi(\\theta)\n",
        "$$"
      ],
      "metadata": {
        "id": "DIuFuoYbhAgT"
      }
    },
    {
      "cell_type": "code",
      "source": [
        "phi(mu) + hadamard"
      ],
      "metadata": {
        "colab": {
          "base_uri": "https://localhost:8080/",
          "height": 37
        },
        "id": "5vD9jR23gtY0",
        "outputId": "fb07d1a4-0ad6-4b22-873b-d468e31fed09"
      },
      "execution_count": null,
      "outputs": [
        {
          "output_type": "execute_result",
          "data": {
            "text/plain": [
              "Xbar"
            ],
            "text/latex": "$\\displaystyle \\bar{X}$"
          },
          "metadata": {},
          "execution_count": 16
        }
      ]
    },
    {
      "cell_type": "markdown",
      "source": [
        "Hence the Delta-method's approximation to the variance is:"
      ],
      "metadata": {
        "id": "fpHQP0iMvFdh"
      }
    },
    {
      "cell_type": "code",
      "source": [
        "delta_variance = Variance(phi(mu) + hadamard).expand()"
      ],
      "metadata": {
        "id": "BWU77PwxhdKi"
      },
      "execution_count": null,
      "outputs": []
    },
    {
      "cell_type": "markdown",
      "source": [
        "and we know from classical inference that $\\text{Var}(\\bar{X}) = \\frac{\\sigma^2}{n}$"
      ],
      "metadata": {
        "id": "j-9JvKVNwXCW"
      }
    },
    {
      "cell_type": "code",
      "source": [
        "delta_variance.subs(Variance(Xbar), sigmasq/n)"
      ],
      "metadata": {
        "colab": {
          "base_uri": "https://localhost:8080/",
          "height": 54
        },
        "id": "ssusXoZHwf-R",
        "outputId": "4d7df1e2-3c8d-4a85-98b9-65472a751008"
      },
      "execution_count": null,
      "outputs": [
        {
          "output_type": "execute_result",
          "data": {
            "text/plain": [
              "sigma^2/n"
            ],
            "text/latex": "$\\displaystyle \\frac{\\sigma^{2}}{n}$"
          },
          "metadata": {},
          "execution_count": 18
        }
      ]
    },
    {
      "cell_type": "markdown",
      "source": [
        "## 3.3 Delta-method for the variance of the ratio of two sample means\n",
        "\n",
        "Let $\\{X_1, \\dots, X_n\\}$ denote a random sample of variables $X$ with mean $\\mu_X$ and variance $\\sigma^2_X$ and  $\\{Y_1, \\dots, Y_n\\}$ denote a random sample of variables $Y$ with mean $\\mu_Y$ and variance $\\sigma^2_Y$ we are interested in approximating the variance of \n",
        "\n",
        "$$\n",
        "\\phi(\\mu_X,\\mu_Y) = \\frac{\\mu_X}{\\mu_Y}\n",
        "$$\n",
        "\n",
        "to so we declare the symbols $\\bar{X},\\bar{Y},\\mu_X,\\mu_Y$ and the function $\\phi$:"
      ],
      "metadata": {
        "id": "r5X1LawwxGY5"
      }
    },
    {
      "cell_type": "code",
      "source": [
        "#Declaration of variables\n",
        "mu_x       = Symbol('mu_x')\n",
        "mu_y       = Symbol('mu_y')\n",
        "n          = Symbol('n', positive=True, integer = True) #Sample size of X and Y\n",
        "sigmasq_x  = Symbol('sigma^2_X', positive = True) \n",
        "sigmasq_y  = Symbol('sigma^2_Y', positive = True) \n",
        "sigma_xy   = Symbol('sigma_xy') #Covariance\n",
        "Xbar       = RandomSymbol('Xbar')\n",
        "Ybar       = RandomSymbol('Ybar')  \n",
        "\n",
        "#Declaration of function\n",
        "def phi(mu_x, mu_y):\n",
        "  return mu_x/mu_y"
      ],
      "metadata": {
        "id": "GONOS7vVyHCg"
      },
      "execution_count": null,
      "outputs": []
    },
    {
      "cell_type": "markdown",
      "source": [
        "We calculate the derivative (in this case, gradient) in the direction of \n",
        "$$\n",
        "v = \\begin{pmatrix}\n",
        "    \\bar{X} - \\mu_X\\\\\n",
        "    \\bar{Y} - \\mu_Y\n",
        "    \\end{pmatrix}\n",
        "$$"
      ],
      "metadata": {
        "id": "OLfiD_DDzSMH"
      }
    },
    {
      "cell_type": "code",
      "source": [
        "#Obtain the direction vector\n",
        "v = Matrix([Xbar - mu_x, Ybar - mu_y])\n",
        "\n",
        "#And calculate the gradient\n",
        "grad = derive_by_array(phi(mu_x,mu_y), [mu_x, mu_y])\n",
        "grad = Matrix(grad)\n",
        "\n",
        "#Thus calculating the Hadamard (directional) derivative:\n",
        "hadamard = grad.dot(v)\n",
        "hadamard"
      ],
      "metadata": {
        "colab": {
          "base_uri": "https://localhost:8080/",
          "height": 62
        },
        "id": "52ngH10pzgiO",
        "outputId": "e50b92c2-3748-4968-d7f6-06023793c77b"
      },
      "execution_count": null,
      "outputs": [
        {
          "output_type": "execute_result",
          "data": {
            "text/plain": [
              "-mu_x*(-mu_y + Ybar)/mu_y**2 + (-mu_x + Xbar)/mu_y"
            ],
            "text/latex": "$\\displaystyle - \\frac{\\mu_{x} \\left(- \\mu_{y} + \\bar{Y}\\right)}{\\mu_{y}^{2}} + \\frac{- \\mu_{x} + \\bar{X}}{\\mu_{y}}$"
          },
          "metadata": {},
          "execution_count": 20
        }
      ]
    },
    {
      "cell_type": "markdown",
      "source": [
        "The variance of the hadamard derivative (influence function) is estimated as follows:"
      ],
      "metadata": {
        "id": "IXe6tncH0XOL"
      }
    },
    {
      "cell_type": "code",
      "source": [
        "variance_expanded = Variance(hadamard).expand().simplify()\n",
        "variance_expanded"
      ],
      "metadata": {
        "colab": {
          "base_uri": "https://localhost:8080/",
          "height": 63
        },
        "id": "5HrYd-K90cYd",
        "outputId": "23f887c1-c0da-40d5-8f55-ccb86dcd5f92"
      },
      "execution_count": null,
      "outputs": [
        {
          "output_type": "execute_result",
          "data": {
            "text/plain": [
              "(mu_x**2*Variance(Ybar) - 2*mu_x*mu_y*Covariance(Xbar, Ybar) + mu_y**2*Variance(Xbar))/mu_y**4"
            ],
            "text/latex": "$\\displaystyle \\frac{\\mu_{x}^{2} \\operatorname{Var}\\left(\\bar{Y}\\right) - 2 \\mu_{x} \\mu_{y} \\operatorname{Cov}\\left(\\bar{X}, \\bar{Y}\\right) + \\mu_{y}^{2} \\operatorname{Var}\\left(\\bar{X}\\right)}{\\mu_{y}^{4}}$"
          },
          "metadata": {},
          "execution_count": 21
        }
      ]
    },
    {
      "cell_type": "markdown",
      "source": [
        "We can further simplify by substituting the variances of $\\bar{X}$ and $\\bar{Y} as well as the covariances$:"
      ],
      "metadata": {
        "id": "hVtJl2O_0rgx"
      }
    },
    {
      "cell_type": "code",
      "source": [
        "variance_expanded = variance_expanded.subs(Covariance(Xbar,Ybar), sigma_xy/n)\n",
        "variance_expanded = variance_expanded.subs(Variance(Xbar), sigmasq_x/n)\n",
        "variance_expanded = variance_expanded.subs(Variance(Ybar), sigmasq_y/n)\n",
        "\n",
        "variance_expanded.simplify()"
      ],
      "metadata": {
        "colab": {
          "base_uri": "https://localhost:8080/",
          "height": 62
        },
        "id": "sm0Vyt5204vT",
        "outputId": "c7d365ef-03e8-4066-8587-7778783d424b"
      },
      "execution_count": null,
      "outputs": [
        {
          "output_type": "execute_result",
          "data": {
            "text/plain": [
              "(mu_x**2*sigma^2_Y - 2*mu_x*mu_y*sigma_xy + mu_y**2*sigma^2_X)/(mu_y**4*n)"
            ],
            "text/latex": "$\\displaystyle \\frac{\\mu_{x}^{2} \\sigma^{2}_{Y} - 2 \\mu_{x} \\mu_{y} \\sigma_{xy} + \\mu_{y}^{2} \\sigma^{2}_{X}}{\\mu_{y}^{4} n}$"
          },
          "metadata": {},
          "execution_count": 22
        }
      ]
    },
    {
      "cell_type": "markdown",
      "source": [
        "## 3.4 Delta-method for the risk ratio\n",
        "Consider the risk ratio for two probabilities defined by:\n",
        "$$\n",
        "RR(p_1,p_2) = \\frac{p_1}{p_2}\n",
        "$$\n",
        "and the transformation $\\phi$ given by:\n",
        "$$\n",
        "\\phi(p_1,p_2) = \\log\\big(RR(p_1,p_2)\\big)\n",
        "$$\n",
        "In this case, a random sample of $N_1$ elements of one category and $N_2$ elements of a second (independent) category with respective probabilities $p_1$ and $p_2$ result in estimators $\\hat{p}_1$ and $\\hat{p}_2$ which we declare:"
      ],
      "metadata": {
        "id": "4-5kak7M1xQO"
      }
    },
    {
      "cell_type": "code",
      "source": [
        "#Declaration of variables\n",
        "p_1       = Symbol('p_1')\n",
        "p_2       = Symbol('p_2')\n",
        "p_1hat    = RandomSymbol('phat_1')\n",
        "p_2hat    = RandomSymbol('phat_2')  \n",
        "N_1       = Symbol('N_1', positive=True, integer = True) #Sample size asssociated to p1\n",
        "N_2       = Symbol('N_2', positive=True, integer = True) #Sample size asssociated to p2\n",
        "\n",
        "#Declaration of relative risk function\n",
        "def RR(p_1, p_2):\n",
        "  return p_1/p_2\n",
        "\n",
        "#Declaration of phi for delta method\n",
        "def phi(p_1, p_2):\n",
        "  return log(RR(p_1, p_2));"
      ],
      "metadata": {
        "id": "le_e-Yws3N1q"
      },
      "execution_count": null,
      "outputs": []
    },
    {
      "cell_type": "markdown",
      "source": [
        "The derivative is given by:"
      ],
      "metadata": {
        "id": "uQBhVXbg3mqR"
      }
    },
    {
      "cell_type": "code",
      "source": [
        "#Obtain the direction vector\n",
        "v = Matrix([p_1hat - p_1, p_2hat - p_2])\n",
        "\n",
        "#And calculate the gradient\n",
        "grad = derive_by_array(phi(p_1,p_2), [p_1, p_2])\n",
        "grad = Matrix(grad)\n",
        "\n",
        "#Thus calculating the Hadamard (directional) derivative:\n",
        "hadamard = grad.dot(v)\n",
        "hadamard"
      ],
      "metadata": {
        "colab": {
          "base_uri": "https://localhost:8080/",
          "height": 55
        },
        "id": "9gjN_yag3pbq",
        "outputId": "03e5509c-059e-46c0-f6b7-e8231215ea7f"
      },
      "execution_count": null,
      "outputs": [
        {
          "output_type": "execute_result",
          "data": {
            "text/plain": [
              "-(-p_2 + phat_2)/p_2 + (-p_1 + phat_1)/p_1"
            ],
            "text/latex": "$\\displaystyle - \\frac{- p_{2} + \\hat{p}_{2}}{p_{2}} + \\frac{- p_{1} + \\hat{p}_{1}}{p_{1}}$"
          },
          "metadata": {},
          "execution_count": 24
        }
      ]
    },
    {
      "cell_type": "markdown",
      "source": [
        "And the variance where we use that $\\text{Var}(\\hat{p}_i) = p_i(1-p_i)/N_i$ and that the covariance is zero due to independence"
      ],
      "metadata": {
        "id": "rt7BwVlF4HLm"
      }
    },
    {
      "cell_type": "code",
      "source": [
        "variance_expanded = Variance(hadamard).expand().simplify()\n",
        "variance_expanded"
      ],
      "metadata": {
        "colab": {
          "base_uri": "https://localhost:8080/",
          "height": 57
        },
        "id": "2H1ETE_X4QN7",
        "outputId": "876461d4-ff84-497c-8a54-e6e94b1b8119"
      },
      "execution_count": null,
      "outputs": [
        {
          "output_type": "execute_result",
          "data": {
            "text/plain": [
              "Variance(phat_2)/p_2**2 - 2*Covariance(phat_1, phat_2)/(p_1*p_2) + Variance(phat_1)/p_1**2"
            ],
            "text/latex": "$\\displaystyle \\frac{\\operatorname{Var}\\left(\\hat{p}_{2}\\right)}{p_{2}^{2}} - \\frac{2 \\operatorname{Cov}\\left(\\hat{p}_{1}, \\hat{p}_{2}\\right)}{p_{1} p_{2}} + \\frac{\\operatorname{Var}\\left(\\hat{p}_{1}\\right)}{p_{1}^{2}}$"
          },
          "metadata": {},
          "execution_count": 25
        }
      ]
    },
    {
      "cell_type": "markdown",
      "source": [
        "Which can be simplified into:"
      ],
      "metadata": {
        "id": "7j-_-prz4bPe"
      }
    },
    {
      "cell_type": "code",
      "source": [
        "variance_expanded = variance_expanded.subs(Covariance(p_1hat,p_2hat), 0.0)\n",
        "variance_expanded = variance_expanded.subs(Variance(p_1hat), p_1*(1 - p_1)/N_1)\n",
        "variance_expanded = variance_expanded.subs(Variance(p_2hat), p_2*(1 - p_2)/N_2)\n",
        "\n",
        "variance_expanded"
      ],
      "metadata": {
        "colab": {
          "base_uri": "https://localhost:8080/",
          "height": 54
        },
        "id": "D7qbcvXB4cyN",
        "outputId": "592364c9-99a7-4a2b-fed4-0456ae16e1e2"
      },
      "execution_count": null,
      "outputs": [
        {
          "output_type": "execute_result",
          "data": {
            "text/plain": [
              "(1 - p_2)/(N_2*p_2) + (1 - p_1)/(N_1*p_1)"
            ],
            "text/latex": "$\\displaystyle \\frac{1 - p_{2}}{N_{2} p_{2}} + \\frac{1 - p_{1}}{N_{1} p_{1}}$"
          },
          "metadata": {},
          "execution_count": 26
        }
      ]
    },
    {
      "cell_type": "markdown",
      "source": [
        "## 3.5 Counterexample: When Using the Influence Function Will not Work\n",
        "\n",
        "Consider the attributable fraction among the exposed for an exposure level $x$ given by:\n",
        "$$\n",
        "\\textrm{AF}_e(x) = \\dfrac{RR(\\theta,x)-1}{RR(\\theta,x)}.\n",
        "$$\n",
        "we compute the expansion around $x = 0$:"
      ],
      "metadata": {
        "id": "B4NilYCf5nZd"
      }
    },
    {
      "cell_type": "code",
      "source": [
        "#Declaration of variables\n",
        "x         = Symbol('x', positive = True)\n",
        "theta     = Symbol('theta')\n",
        "\n",
        "#Declaration of relative risk function\n",
        "def RR(x, theta):\n",
        "  return exp(x/theta)\n",
        "\n",
        "#Declaration of phi for delta method\n",
        "def AF(x, theta):\n",
        "  return (RR(x,theta) - 1)/RR(x, theta);\n",
        "\n",
        "#The derivative at x = 0 exists and is zero for positive theta\n",
        "derivative = diff(AF(x,theta),theta)\n",
        "limit(derivative, theta, 0)"
      ],
      "metadata": {
        "colab": {
          "base_uri": "https://localhost:8080/",
          "height": 37
        },
        "id": "cvC_Xr5353d6",
        "outputId": "9fafd6e4-37d7-4fb4-da39-871b1a98e6ea"
      },
      "execution_count": null,
      "outputs": [
        {
          "output_type": "execute_result",
          "data": {
            "text/plain": [
              "0"
            ],
            "text/latex": "$\\displaystyle 0$"
          },
          "metadata": {},
          "execution_count": 29
        }
      ]
    },
    {
      "cell_type": "code",
      "source": [
        "#This happens for any order (n) of the Taylor expansion as you can verify;\n",
        "series(AF(1, theta), x0 = 0, n = 10).removeO()"
      ],
      "metadata": {
        "colab": {
          "base_uri": "https://localhost:8080/",
          "height": 37
        },
        "id": "J6BCRPQY-Dcw",
        "outputId": "de106658-41df-4556-915d-059d1f79f74b"
      },
      "execution_count": null,
      "outputs": [
        {
          "output_type": "execute_result",
          "data": {
            "text/plain": [
              "0"
            ],
            "text/latex": "$\\displaystyle 0$"
          },
          "metadata": {},
          "execution_count": 30
        }
      ]
    },
    {
      "cell_type": "markdown",
      "source": [
        "## 3.7 Delta-method for the correlation parameter between vectors $X$ and $Y$\n",
        "\n",
        "We are interested on estimating:\n",
        "\n",
        "$$\n",
        "\\rho(X,Y)=\\dfrac{\\mathbb{E}[X Y]−\\mathbb{E}[X]\\cdot\\mathbb{E}[Y]}\n",
        "{\\sqrt{\\mathbb{E}[X^{2}]-\\mathbb{E}^{2}[X]}\\sqrt{\\mathbb{E}[Y^{2}]-\\mathbb{E}^{2}[Y]}}\n",
        "$$\n",
        "\n",
        "where we set $\\mu_{X,Y} = \\mathbb{E}[X Y]$, $\\mu_X = \\mathbb{E}[X]$, $\\mu_Y = \\mathbb{E}[Y]$, $\\mu_{X^2} = \\mathbb{E}[X^2]$, and $\\mu_{Y^2} = \\mathbb{E}[Y^2]$. Hence:\n",
        "$$\n",
        "\\phi(\\mu_{X,Y},\\mu_X,\\mu_Y,\\mu_{X^2},\\mu_{Y^2}) = \\dfrac{\\mu_{X,Y} - \\mu_X\\cdot\\mu_Y}{\\sqrt{\\mu_{X^2} - \\mu_X^2}\\cdot \\sqrt{\\mu_{Y^2} - \\mu_Y^2}}\n",
        "$$"
      ],
      "metadata": {
        "id": "tl_yvGsSUCpJ"
      }
    },
    {
      "cell_type": "code",
      "source": [
        "#Create the variables and the estimators\n",
        "mu_XY    = Symbol('mu_XY')\n",
        "mu_X     = Symbol('mu_X')\n",
        "mu_Y     = Symbol('mu_Y')\n",
        "mu_X2    = Symbol('mu_X2', positive=True)\n",
        "mu_Y2    = Symbol('mu_Y2', positive=True)\n",
        "N        = Symbol('N', positive=True, integer=True) #Sample size\n",
        "XYbar    = RandomSymbol(\"XYbar\")\n",
        "Xbar     = RandomSymbol(\"Xbar\")\n",
        "Ybar     = RandomSymbol(\"Ybar\")\n",
        "Xbar2    = RandomSymbol(\"X²bar\")\n",
        "Ybar2    = RandomSymbol(\"Y²bar\")\n",
        "\n",
        "#Declaration of function\n",
        "def phi(mu_XY, mu_X, mu_Y, mu_X2, mu_Y2):\n",
        "  return (mu_XY - mu_X*mu_Y)/(sqrt(mu_X2 - pow(mu_X,2))*sqrt(mu_Y2 - pow(mu_Y,2)))\n",
        "\n",
        "#Obtain the direction vector\n",
        "v = Matrix([mu_XY - XYbar, mu_X - Xbar, mu_Y - Ybar, mu_X2 - Xbar2, mu_Y2 - Ybar2])\n",
        "\n",
        "#And calculate the gradient\n",
        "grad = derive_by_array(phi(mu_XY, mu_X, mu_Y, mu_X2, mu_Y2), [mu_XY, mu_X, mu_Y, mu_X2, mu_Y2])\n",
        "grad = Matrix(grad)\n",
        "\n",
        "#Thus calculating the Hadamard (directional) derivative:\n",
        "hadamard = grad.dot(v)\n",
        "hadamard"
      ],
      "metadata": {
        "colab": {
          "base_uri": "https://localhost:8080/",
          "height": 171
        },
        "id": "qjLp4277cNii",
        "outputId": "4e1273de-cdbc-4a78-843e-9544d5bb2b01"
      },
      "execution_count": null,
      "outputs": [
        {
          "output_type": "execute_result",
          "data": {
            "text/plain": [
              "(mu_X - Xbar)*(mu_X*(-mu_X*mu_Y + mu_XY)/((-mu_X**2 + mu_X2)**(3/2)*sqrt(-mu_Y**2 + mu_Y2)) - mu_Y/(sqrt(-mu_X**2 + mu_X2)*sqrt(-mu_Y**2 + mu_Y2))) + (mu_Y - Ybar)*(-mu_X/(sqrt(-mu_X**2 + mu_X2)*sqrt(-mu_Y**2 + mu_Y2)) + mu_Y*(-mu_X*mu_Y + mu_XY)/(sqrt(-mu_X**2 + mu_X2)*(-mu_Y**2 + mu_Y2)**(3/2))) + (mu_XY - XYbar)/(sqrt(-mu_X**2 + mu_X2)*sqrt(-mu_Y**2 + mu_Y2)) - (mu_Y2 - Y²bar)*(-mu_X*mu_Y + mu_XY)/(2*sqrt(-mu_X**2 + mu_X2)*(-mu_Y**2 + mu_Y2)**(3/2)) - (mu_X2 - X²bar)*(-mu_X*mu_Y + mu_XY)/(2*(-mu_X**2 + mu_X2)**(3/2)*sqrt(-mu_Y**2 + mu_Y2))"
            ],
            "text/latex": "$\\displaystyle \\left(\\mu_{X} - \\bar{X}\\right) \\left(\\frac{\\mu_{X} \\left(- \\mu_{X} \\mu_{Y} + \\mu_{XY}\\right)}{\\left(- \\mu_{X}^{2} + \\mu_{X2}\\right)^{\\frac{3}{2}} \\sqrt{- \\mu_{Y}^{2} + \\mu_{Y2}}} - \\frac{\\mu_{Y}}{\\sqrt{- \\mu_{X}^{2} + \\mu_{X2}} \\sqrt{- \\mu_{Y}^{2} + \\mu_{Y2}}}\\right) + \\left(\\mu_{Y} - \\bar{Y}\\right) \\left(- \\frac{\\mu_{X}}{\\sqrt{- \\mu_{X}^{2} + \\mu_{X2}} \\sqrt{- \\mu_{Y}^{2} + \\mu_{Y2}}} + \\frac{\\mu_{Y} \\left(- \\mu_{X} \\mu_{Y} + \\mu_{XY}\\right)}{\\sqrt{- \\mu_{X}^{2} + \\mu_{X2}} \\left(- \\mu_{Y}^{2} + \\mu_{Y2}\\right)^{\\frac{3}{2}}}\\right) + \\frac{\\mu_{XY} - \\bar{XY}}{\\sqrt{- \\mu_{X}^{2} + \\mu_{X2}} \\sqrt{- \\mu_{Y}^{2} + \\mu_{Y2}}} - \\frac{\\left(\\mu_{Y2} - \\bar{Y²}\\right) \\left(- \\mu_{X} \\mu_{Y} + \\mu_{XY}\\right)}{2 \\sqrt{- \\mu_{X}^{2} + \\mu_{X2}} \\left(- \\mu_{Y}^{2} + \\mu_{Y2}\\right)^{\\frac{3}{2}}} - \\frac{\\left(\\mu_{X2} - \\bar{X²}\\right) \\left(- \\mu_{X} \\mu_{Y} + \\mu_{XY}\\right)}{2 \\left(- \\mu_{X}^{2} + \\mu_{X2}\\right)^{\\frac{3}{2}} \\sqrt{- \\mu_{Y}^{2} + \\mu_{Y2}}}$"
          },
          "metadata": {},
          "execution_count": 31
        }
      ]
    },
    {
      "cell_type": "markdown",
      "source": [
        "## 3.8 Applications of the Delta-method in Regression Models \n",
        "\n",
        "We are interested in estimating the Relative Risk function given by:\n",
        "$$\n",
        "\\phi(\\beta_0, \\beta_1, \\beta_2) = \\dfrac{1 + e^{-(\\beta_0 + \\beta_1 + \\beta_2)}}{1 + e^{-(\\beta_0 + \\beta_1)}}.\n",
        "$$\n",
        "We can define the function and obtain the gradient:"
      ],
      "metadata": {
        "id": "0LNVesum87ml"
      }
    },
    {
      "cell_type": "code",
      "source": [
        "#Create the variables and the estimators\n",
        "beta0      = Symbol('beta_0')\n",
        "beta1      = Symbol('beta_1')\n",
        "beta2      = Symbol('beta_2')\n",
        "betahat_0  = RandomSymbol('betahat_0')\n",
        "betahat_1  = RandomSymbol('betahat_1')\n",
        "betahat_2  = RandomSymbol('betahat_2')\n",
        "\n",
        "#Declaration of function\n",
        "def phi(beta0, beta1, beta2):\n",
        "  return (1 + exp(-beta0 - beta1 - beta2))/(1 + exp(-beta0 - beta1))\n",
        "\n",
        "#Obtain the direction vector\n",
        "v = Matrix([betahat_0 - beta0, betahat_1 - beta1, betahat_2 - beta2])\n",
        "\n",
        "#And calculate the gradient\n",
        "grad = derive_by_array(phi(beta0, beta1, beta2), [beta0, beta1, beta2])\n",
        "grad = Matrix(grad)\n",
        "\n",
        "\n",
        "#Thus calculating the Hadamard (directional) derivative:\n",
        "hadamard = grad.dot(v)\n",
        "hadamard.simplify()"
      ],
      "metadata": {
        "colab": {
          "base_uri": "https://localhost:8080/",
          "height": 73
        },
        "id": "or7rnATfZCiQ",
        "outputId": "4711040c-d156-499c-e8d3-c3b989f2f05e"
      },
      "execution_count": null,
      "outputs": [
        {
          "output_type": "execute_result",
          "data": {
            "text/plain": [
              "((beta_2 - betahat_2)*(exp(beta_0 + beta_1) + 1) + (exp(beta_0 + beta_1) - exp(beta_0 + beta_1 + beta_2))*(beta_0 + beta_1 - betahat_0 - betahat_1))*exp(-beta_2)/(exp(beta_0 + beta_1) + 1)**2"
            ],
            "text/latex": "$\\displaystyle \\frac{\\left(\\left(\\beta_{2} - \\hat{\\beta}_{2}\\right) \\left(e^{\\beta_{0} + \\beta_{1}} + 1\\right) + \\left(e^{\\beta_{0} + \\beta_{1}} - e^{\\beta_{0} + \\beta_{1} + \\beta_{2}}\\right) \\left(\\beta_{0} + \\beta_{1} - \\hat{\\beta}_{0} - \\hat{\\beta}_{1}\\right)\\right) e^{- \\beta_{2}}}{\\left(e^{\\beta_{0} + \\beta_{1}} + 1\\right)^{2}}$"
          },
          "metadata": {},
          "execution_count": 66
        }
      ]
    },
    {
      "cell_type": "code",
      "source": [
        "#Against variance covariance matrix\n",
        "sigma0      = Symbol('sigma^2_0')\n",
        "sigma1      = Symbol('sigma^2_1')\n",
        "sigma2      = Symbol('sigma^2_2')\n",
        "sigma01     = Symbol('sigma_01')\n",
        "sigma02     = Symbol('sigma_02')\n",
        "sigma12     = Symbol('sigma_12')\n",
        "\n",
        "VCOV = Matrix([[sigma0,  sigma01,  sigma02],\n",
        "               [sigma01,  sigma1,  sigma12],\n",
        "               [sigma02, sigma12, sigma2]])\n",
        "\n",
        "varprod = grad.transpose()*VCOV*grad\n",
        "simplify(simplify(varprod))"
      ],
      "metadata": {
        "colab": {
          "base_uri": "https://localhost:8080/",
          "height": 78
        },
        "id": "2FxkPi6ncZyC",
        "outputId": "8f8078d8-a433-44a5-b2cf-6d0def0bb8ca"
      },
      "execution_count": null,
      "outputs": [
        {
          "output_type": "execute_result",
          "data": {
            "text/plain": [
              "Matrix([[((sigma^2_2*(exp(beta_0 + beta_1) + 1) + (sigma_02 + sigma_12)*(exp(beta_0 + beta_1) - exp(beta_0 + beta_1 + beta_2)))*(exp(beta_0 + beta_1) + 1) + (exp(beta_0 + beta_1) - exp(beta_0 + beta_1 + beta_2))*(sigma_02*(exp(beta_0 + beta_1) + 1) + sigma_12*(exp(beta_0 + beta_1) + 1) + (sigma^2_0 + sigma_01)*(exp(beta_0 + beta_1) - exp(beta_0 + beta_1 + beta_2)) + (sigma^2_1 + sigma_01)*(exp(beta_0 + beta_1) - exp(beta_0 + beta_1 + beta_2))))*exp(-2*beta_2)/(exp(beta_0 + beta_1) + 1)**4]])"
            ],
            "text/latex": "$\\displaystyle \\left[\\begin{matrix}\\frac{\\left(\\left(\\sigma^{2}_{2} \\left(e^{\\beta_{0} + \\beta_{1}} + 1\\right) + \\left(\\sigma_{02} + \\sigma_{12}\\right) \\left(e^{\\beta_{0} + \\beta_{1}} - e^{\\beta_{0} + \\beta_{1} + \\beta_{2}}\\right)\\right) \\left(e^{\\beta_{0} + \\beta_{1}} + 1\\right) + \\left(e^{\\beta_{0} + \\beta_{1}} - e^{\\beta_{0} + \\beta_{1} + \\beta_{2}}\\right) \\left(\\sigma_{02} \\left(e^{\\beta_{0} + \\beta_{1}} + 1\\right) + \\sigma_{12} \\left(e^{\\beta_{0} + \\beta_{1}} + 1\\right) + \\left(\\sigma^{2}_{0} + \\sigma_{01}\\right) \\left(e^{\\beta_{0} + \\beta_{1}} - e^{\\beta_{0} + \\beta_{1} + \\beta_{2}}\\right) + \\left(\\sigma^{2}_{1} + \\sigma_{01}\\right) \\left(e^{\\beta_{0} + \\beta_{1}} - e^{\\beta_{0} + \\beta_{1} + \\beta_{2}}\\right)\\right)\\right) e^{- 2 \\beta_{2}}}{\\left(e^{\\beta_{0} + \\beta_{1}} + 1\\right)^{4}}\\end{matrix}\\right]$"
          },
          "metadata": {},
          "execution_count": 79
        }
      ]
    },
    {
      "cell_type": "markdown",
      "source": [
        "## Reproducibility"
      ],
      "metadata": {
        "id": "vKpjUgu-edY8"
      }
    },
    {
      "cell_type": "code",
      "source": [
        "session_info.show()"
      ],
      "metadata": {
        "colab": {
          "base_uri": "https://localhost:8080/",
          "height": 296
        },
        "id": "5HMJGBBzecHG",
        "outputId": "e394d9f9-7fbb-4f70-8876-e0921c0779da"
      },
      "execution_count": null,
      "outputs": [
        {
          "output_type": "execute_result",
          "data": {
            "text/plain": [
              "<IPython.core.display.HTML object>"
            ],
            "text/html": [
              "<details>\n",
              "<summary>Click to view session information</summary>\n",
              "<pre>\n",
              "-----\n",
              "session_info        1.0.0\n",
              "sympy               1.10.1\n",
              "-----\n",
              "</pre>\n",
              "<details>\n",
              "<summary>Click to view modules imported as dependencies</summary>\n",
              "<pre>\n",
              "PIL                         7.1.2\n",
              "astor                       0.8.1\n",
              "bottleneck                  1.3.4\n",
              "cachetools                  4.2.4\n",
              "certifi                     2021.10.08\n",
              "cffi                        1.15.0\n",
              "chardet                     3.0.4\n",
              "cloudpickle                 1.3.0\n",
              "cycler                      0.10.0\n",
              "cython_runtime              NA\n",
              "dateutil                    2.8.2\n",
              "debugpy                     1.0.0\n",
              "decorator                   4.4.2\n",
              "google                      NA\n",
              "grpc                        1.44.0\n",
              "idna                        2.10\n",
              "ipykernel                   4.10.1\n",
              "ipython_genutils            0.2.0\n",
              "ipywidgets                  7.6.5\n",
              "kiwisolver                  1.3.2\n",
              "matplotlib                  3.2.2\n",
              "mpl_toolkits                NA\n",
              "mpmath                      1.2.1\n",
              "numexpr                     2.8.1\n",
              "numpy                       1.21.5\n",
              "packaging                   21.3\n",
              "pandas                      1.3.5\n",
              "pexpect                     4.8.0\n",
              "pickleshare                 0.7.5\n",
              "pkg_resources               NA\n",
              "portpicker                  NA\n",
              "prompt_toolkit              1.0.18\n",
              "psutil                      5.4.8\n",
              "ptyprocess                  0.7.0\n",
              "pyarrow                     6.0.1\n",
              "pyasn1                      0.4.8\n",
              "pyasn1_modules              0.2.8\n",
              "pydev_ipython               NA\n",
              "pydevconsole                NA\n",
              "pydevd                      2.0.0\n",
              "pydevd_concurrency_analyser NA\n",
              "pydevd_file_utils           NA\n",
              "pydevd_plugins              NA\n",
              "pydevd_tracing              NA\n",
              "pygments                    2.6.1\n",
              "pyparsing                   3.0.7\n",
              "pytz                        2018.9\n",
              "requests                    2.23.0\n",
              "rsa                         4.8\n",
              "simplegeneric               NA\n",
              "sitecustomize               NA\n",
              "six                         1.15.0\n",
              "socks                       1.7.1\n",
              "sphinxcontrib               NA\n",
              "storemagic                  NA\n",
              "tornado                     5.1.1\n",
              "tqdm                        4.63.0\n",
              "traitlets                   5.1.1\n",
              "urllib3                     1.24.3\n",
              "wcwidth                     0.2.5\n",
              "zmq                         22.3.0\n",
              "</pre>\n",
              "</details> <!-- seems like this ends pre, so might as well be explicit -->\n",
              "<pre>\n",
              "-----\n",
              "IPython             5.5.0\n",
              "jupyter_client      5.3.5\n",
              "jupyter_core        4.9.2\n",
              "notebook            5.3.1\n",
              "-----\n",
              "Python 3.7.12 (default, Jan 15 2022, 18:48:18) [GCC 7.5.0]\n",
              "Linux-5.4.144+-x86_64-with-Ubuntu-18.04-bionic\n",
              "-----\n",
              "Session information updated at 2022-03-22 15:55\n",
              "</pre>\n",
              "</details>"
            ]
          },
          "metadata": {},
          "execution_count": 47
        }
      ]
    }
  ]
}