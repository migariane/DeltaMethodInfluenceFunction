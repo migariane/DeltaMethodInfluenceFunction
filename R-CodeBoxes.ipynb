{
  "nbformat": 4,
  "nbformat_minor": 0,
  "metadata": {
    "colab": {
      "name": "Untitled0.ipynb",
      "provenance": [],
      "toc_visible": true,
      "include_colab_link": true
    },
    "kernelspec": {
      "name": "python3",
      "display_name": "Python 3"
    },
    "language_info": {
      "name": "python"
    }
  },
  "cells": [
    {
      "cell_type": "markdown",
      "metadata": {
        "id": "view-in-github",
        "colab_type": "text"
      },
      "source": [
        "<a href=\"https://colab.research.google.com/github/migariane/DeltaMethodInfluenceFunction/blob/main/R-CodeBoxes.ipynb\" target=\"_parent\"><img src=\"https://colab.research.google.com/assets/colab-badge.svg\" alt=\"Open In Colab\"/></a>"
      ]
    },
    {
      "cell_type": "markdown",
      "source": [
        ""
      ],
      "metadata": {
        "id": "hFfq7Q2MA7KQ"
      }
    },
    {
      "cell_type": "markdown",
      "source": [
        "# Delta Method\n",
        "\n",
        "Code for reproducing all the results in the paper _The Delta-method and influence function in epidemiology: a reproducible tutorial_\n",
        "\n",
        "### Authors\n",
        "\n",
        "Rodrigo Zepeda-Tello 1| Michael Schomaker 2,3| Aurelien Belot 4| Camille Maringe 4| Mathew Smith 4| Bernard Rachet 4| Mireille E.Schnitzer 5,6| Miguel Angel Luque Fernandez* 4,7  \n",
        "\n",
        "Affiliations  \n",
        "\n",
        "  1. Instituto Mexicano del Seguro Social, Mexico.\n",
        "  2. Institute of Public Health, Medical Decision Making and Health Technology Assessment Department of Public Health, Health Services Research and Health Technology Assessment UMIT - University for Health Sciences, Medical Informatics and Technology, Austria.\n",
        "  3. Centre for Infectious Disease Epidemiology and Research, University of Cape Town,South Africa.\n",
        "  4. ICON-group. Non-communicable Disease Epidemiology. London School of Hygiene and Tropical Medicine. London, U.K.\n",
        "  5. Faculty of Pharmacy and Department of Social and Preventive Medicine, University of Montreal, Montreal, Canada.\n",
        "  6. Department of Epidemiology, Biostatistics and Occupational Health, McGill University, Montreal, Canada.\n",
        "  7. Department of Statistics and Operations Research, University of Granada, Granada, Spain.  \n",
        "\n",
        "Correspondence*    \n",
        "Miguel Angel Luque-Fernandez  \n",
        "Email: miguel-angel.luque@lshtm.ac.uk  \n"
      ],
      "metadata": {
        "id": "S6Rv3OJ5UV-F"
      }
    },
    {
      "cell_type": "markdown",
      "source": [
        "To use **R** run **rmagic** by executing this command:"
      ],
      "metadata": {
        "id": "Uv3PW3vu_fyn"
      }
    },
    {
      "cell_type": "code",
      "source": [
        "%load_ext rpy2.ipython"
      ],
      "metadata": {
        "id": "-Bx5hZOj_s-P",
        "colab": {
          "base_uri": "https://localhost:8080/"
        },
        "outputId": "eff2108c-3b00-4bb5-fd92-7bb23680766c"
      },
      "execution_count": null,
      "outputs": [
        {
          "output_type": "stream",
          "name": "stdout",
          "text": [
            "The rpy2.ipython extension is already loaded. To reload it, use:\n",
            "  %reload_ext rpy2.ipython\n"
          ]
        }
      ]
    },
    {
      "cell_type": "markdown",
      "source": [
        "## BOX ONE"
      ],
      "metadata": {
        "id": "8HGcy02bAmV2"
      }
    },
    {
      "cell_type": "code",
      "source": [
        "%%R \n",
        "##install.packages('msm')\n",
        "library(msm)\n",
        "set.seed(7777)\n",
        "n <- 1000\n",
        "y <- runif(n, 0, 1)\n",
        "theoretical_mu <- 0.5 \n",
        "empirical_mu <- mean(y)\n",
        "\n",
        "# Functional delta-method: influence curve for the sample mean (first derivative=1(constant))\n",
        "IF <- 1 * (y - empirical_mu)\n",
        "mean(IF) #zero by definition\n",
        "\n",
        "# Plug-in estimation of the sample mean\n",
        "Yhat <- y + IF # Plug-in estimator\n",
        "mean(Yhat)\n",
        "\n",
        "# Geometry of the IF\n",
        "plot(y, IF)\n",
        "\n",
        "# Standard Error: Influence Fuction\n",
        "varYhat.IF <- var(IF) / n # hatvar(hatIF) =1/n sum(yi-bary)^2\n",
        "seIF <- sqrt(varYhat.IF);seIF\n",
        "# 0.009161893\n",
        "\n",
        "# Asymptotic linear inference 95% Confidence Intervals\n",
        "Yhat_95CI <- c(mean(Yhat) - qnorm(0.975) * sqrt(varYhat.IF), mean(Yhat) + qnorm(0.975) * sqrt(varYhat.IF)); \n",
        "mean(Yhat)\n",
        "## [1] 0.508518\n",
        "Yhat_95CI\n",
        "## [1] 0.490561 0.526475\n",
        "\n",
        "\n",
        "\n"
      ],
      "metadata": {
        "colab": {
          "base_uri": "https://localhost:8080/",
          "height": 515
        },
        "id": "LsnaFsorAw3Y",
        "outputId": "ec43ad9f-fde4-4f26-e7b0-910919cb8922"
      },
      "execution_count": null,
      "outputs": [
        {
          "output_type": "stream",
          "name": "stdout",
          "text": [
            "[1] 0.490561 0.526475\n"
          ]
        },
        {
          "output_type": "display_data",
          "data": {
            "image/png": "[encoded data removed]"
          },
          "metadata": {}
        }
      ]
    },
    {
      "cell_type": "markdown",
      "source": [
        "## BOX TWO"
      ],
      "metadata": {
        "id": "TnbQw0YbCHQe"
      }
    },
    {
      "cell_type": "code",
      "source": [
        "%%R\n",
        "# Data generation\n",
        "# install.packages('mvtnorm')\n",
        "library(mvtnorm)\n",
        "set.seed(123)\n",
        "\n",
        "data  <- data.frame(rmvnorm(1000, c(3,4), matrix(c(1,0.3,0.3,2), ncol = 2)))\n",
        "colnames(data) <- c(\"X\",\"Y\")\n",
        "\n",
        "# SE estimation for the ratio: Delta-Method based on the IF\n",
        "ratio <- mean(data$X)/mean(data$Y);mean(ratio)\n",
        "\n",
        "\n",
        "n <- 1000\n",
        "a <-    (1 / (mean(data$Y))^2) * var(data$X) \n",
        "b <-   ((mean(data$X))^2 / (mean(data$Y))^4) * var(data$Y) \n",
        "c <-    2 * ((mean(data$X)) / (mean(data$Y))^3) * cov(data$X,data$Y)\n",
        "var.IF <- 1/n *(a+b-c); var.IF\n",
        "\n",
        "SE <- sqrt(var.IF); SE\n",
        "\n",
        "CI = c(mean(ratio)-qnorm(0.975)*SE,mean(ratio)+qnorm(0.975)*SE); mean(ratio); CI\n",
        "\n",
        "# Cheking results\n",
        "# CI Delta method\n",
        "theta1 <- mean(data$X)\n",
        "sd1 <- sd(data$X)\n",
        "theta2 <- mean(data$Y)\n",
        "sd2 <- sd(data$Y)\n",
        "CI.Delta = function(theta1, sd1,\n",
        "                     theta2, sd2,# estimate and estimated sd of estimator\n",
        "                     alpha # theoretical coverage (1-alpha)\n",
        " )\n",
        " {\n",
        "## CI Delta method\n",
        "## Hirschberg, J., and J. Lye. 2010.\n",
        "## “A Geometric Comparison of the Delta and Fieller Confidence Intervals.”\n",
        "## The American Statistician 64 (3): 234–41\n",
        "## We assume here independence between theta1.hat and theta2.hat\n",
        "    z = qnorm(p=1-alpha/2)\n",
        "    R = theta1/theta2\n",
        "    sd.R = sqrt(sd1^2 + R^2 * sd2^2)/theta2\n",
        "    L = R - z*sd.R\n",
        "    U = R + z*sd.R\n",
        "    res = c(R,L,U)\n",
        "    names(res) = c('R','L','U')\n",
        "    return(res)\n",
        " }\n",
        "# 95%CI Delta-method\n",
        "CI.Delta(theta1, sd1, theta2, sd2, 0.95)"
      ],
      "metadata": {
        "colab": {
          "base_uri": "https://localhost:8080/"
        },
        "outputId": "648504da-ee87-4a87-92e9-6e4388a1f7c2",
        "id": "iNcQibH5Yzrg"
      },
      "execution_count": null,
      "outputs": [
        {
          "output_type": "stream",
          "name": "stdout",
          "text": [
            "        R         L         U \n",
            "0.7541776 0.7315508 0.7768045 \n"
          ]
        }
      ]
    },
    {
      "cell_type": "markdown",
      "source": [
        "## BOX THREE\n"
      ],
      "metadata": {
        "id": "AS1X6NMUGaUk"
      }
    },
    {
      "cell_type": "code",
      "source": [
        "%%R\n",
        "# install.packages(\"epitools\")\n",
        "library(epitools)\n",
        "RRtable <- matrix(c(60,40,40,60),nrow = 2, ncol = 2)\n",
        "RRtable\n",
        "# The next line asks R to compute the RR and 95% confidence interval\n",
        "riskratio.wald(RRtable)\n",
        "# 1.5\n",
        "p1 <- 0.6\n",
        "p2 <- 0.4\n",
        "N1 <- 100\n",
        "N2 <- 100\n",
        "ratio <- 0.6 / 0.4; ratio\n",
        "# 1.5\n",
        "var.IF <- (1 / (p1)^2 * (p1 * (1 - p1)/ N1)) + (1 / (p2)^2 * (p2 * (1 - p2)/ N2));var.IF\n",
        "SE <- sqrt(var.IF); SE\n",
        "# 0.147196\n",
        "CI = c(log(ratio)-qnorm(.975)*SE,log(ratio)+qnorm(.975)*SE); ratio; exp(CI)\n",
        "# 1.124081 2.001634"
      ],
      "metadata": {
        "colab": {
          "base_uri": "https://localhost:8080/"
        },
        "id": "mMfVRrtrF0HV",
        "outputId": "41de3739-2252-4857-a9a9-bd828c891d60"
      },
      "execution_count": null,
      "outputs": [
        {
          "output_type": "stream",
          "name": "stdout",
          "text": [
            "[1] 1.124081 2.001634\n"
          ]
        }
      ]
    },
    {
      "cell_type": "markdown",
      "source": [
        "## BOX FOUR"
      ],
      "metadata": {
        "id": "TqUg43uZHJlE"
      }
    },
    {
      "cell_type": "code",
      "source": [
        "# Data generation\n",
        "%%R\n",
        "set.seed(7777)\n",
        "#install.packages('kdensity')\n",
        "#install.packages('EnvStast')\n",
        "\n",
        "library(kdensity)\n",
        "library(EnvStats)\n",
        "n           <- 1000\n",
        "y           <- rnorm(n,50)\n",
        "my_p        <- 0.25 #Change as you see fit\n",
        "\n",
        "#Compute the first quartile \n",
        "empirical_quantile <- quantile(y, my_p); \n",
        "f_hat              <- kdensity(y, kernel = \"epanechnikov\", normalized = F)\n",
        "plot(f_hat, main = \"Estimated density f() of data\")\n",
        "\n",
        "# IF based 95%CI for Y \n",
        "var_IF  <- my_p*(1 - my_p)/(f_hat(empirical_quantile)^2)\n",
        "SEy_IF  <- sqrt(var_IF/n)\n",
        "CI      <- c(empirical_quantile - qnorm(0.975)*SEy_IF, empirical_quantile + qnorm(0.975)*SEy_IF); CI\n",
        "\n",
        "## 25%      95%\n",
        "## 49.28908 49.46078 \n",
        "\n",
        "# Check results binomial and asymptotically based 95%CI \n",
        "eqnpar(x=y, p=my_p, ci=TRUE, ci.method=\"exact\",approx.conf.level=0.95)$interval$limits\n",
        "\n",
        "##     LCL      UCL \n",
        "## 49.26460 49.45987 \n",
        "\n",
        "eqnpar(x=y, p=my_p, ci=TRUE, ci.method=\"normal.approx\",approx.conf.level=0.95)$interval$limits\n",
        "##     LCL      UCL \n",
        "## 49.26406 49.45863 "
      ],
      "metadata": {
        "id": "vu9BfANzXHE0",
        "outputId": "6c68d5a5-974e-41bc-a947-6a3545e11181",
        "colab": {
          "base_uri": "https://localhost:8080/",
          "height": 534
        }
      },
      "execution_count": null,
      "outputs": [
        {
          "output_type": "stream",
          "name": "stdout",
          "text": [
            "     LCL      UCL \n",
            "49.26406 49.45863 \n"
          ]
        },
        {
          "output_type": "display_data",
          "data": {
            "image/png": "[encoded data removed]"
          },
          "metadata": {}
        }
      ]
    },
    {
      "cell_type": "markdown",
      "source": [
        "## BOX FIVE"
      ],
      "metadata": {
        "id": "Jnv267aUXYJB"
      }
    },
    {
      "cell_type": "markdown",
      "source": [
        ""
      ],
      "metadata": {
        "id": "5vcRdH9mXEqW"
      }
    },
    {
      "cell_type": "code",
      "source": [
        "%%R\n",
        "# Delta-method for the SE of the correlation between two vectors X and Y based on the IF.\n",
        "# install.packages(\"MASS\")\n",
        "\n",
        "# Generate the data\n",
        "samples = 1000\n",
        "R = 0.83\n",
        "library('MASS')\n",
        "set.seed(1)\n",
        "data = mvrnorm(n=samples, mu=c(0, 0), Sigma=matrix(c(1, R, R, 1), nrow=2), empirical=TRUE)\n",
        "X = data[, 1]  # standard normal (mu=0, sd=1)\n",
        "Y = data[, 2]  # standard normal (mu=0, sd=1)\n",
        "# Assess that it works\n",
        "cor(X, Y)  # r = 0.83\n",
        "\n",
        "mu1 = mean(X*Y)\n",
        "mu2 = mean(X)\n",
        "mu3 = mean(Y)\n",
        "mu4 = mean(X^2)\n",
        "mu5 = mean(Y^2) \n",
        "\n",
        "IF1 = X*Y-mu1 \n",
        "IF2 = X-mu2\n",
        "IF3 = Y-mu3 \n",
        "IF4 = X^2-mu4 \n",
        "IF5 = Y^2-mu5\n",
        "\n",
        "IF = \n",
        "    (sqrt(mu4-mu2^2)*sqrt(mu5-mu3^2))^(-1)*IF1+ \n",
        "    (-mu3*sqrt(mu4-mu2^2)*sqrt(mu5-mu3^2)+(mu1-mu2*mu3)*mu2*sqrt(mu5-mu3^2)/sqrt(mu4-mu2^2))/((mu4-mu2^2)*(mu5-mu3^2))*IF2+ \n",
        "    (-mu2*sqrt(mu4-mu2^2)*sqrt(mu5-mu3^2)+(mu1-mu2*mu3)* mu3*sqrt(mu4-mu2^2)/sqrt(mu5-mu3^2))/((mu4-mu2^2)*(mu5-mu3^2))*IF3+ \n",
        "    (-mu1+mu2*mu3)/(2*(mu4-mu2^2)^1.5*(mu5-mu3^2)^.5)*IF4+ \n",
        "    (-mu1+mu2*mu3)/(2*(mu4-mu2^2)^.5*(mu5-mu3^2)^1.5)*IF5\n",
        "\n",
        "SE = sd(IF)/sqrt(1000); SE\n",
        "\n",
        "rho_hat = (mu1-mu2*mu3)/(sqrt(mu4-mu2^2)*sqrt(mu5-mu3^2)); rho_hat\n",
        "CI = c(rho_hat-qnorm(0.975)*SE,rho_hat+qnorm(0.975)*SE); CI\n",
        "## CI [1] 0.8107681 0.8492319\n",
        "\n",
        "## Checking results:\n",
        "## Pearson correlation and \"normal\" confidence intervals.\n",
        "## install.packages(\"confintr\")\n",
        "library(confintr)\n",
        "ci_cor(X,Y)\n",
        "#Sample estimate: 0.83 \n",
        "#Confidence interval:\n",
        "#    2.5%     97.5% \n",
        "#    0.8096678 0.8483423 \n",
        "\n",
        "## Also bootstrap confidence intervals are supported and are the only option for rank correlations. \n",
        "# install.packages('boot')\n",
        "library(boot)\n",
        "ci_cor(X,Y, method = \"pearson\", type = \"bootstrap\", R = 1000, seed = 1)\n"
      ],
      "metadata": {
        "colab": {
          "base_uri": "https://localhost:8080/"
        },
        "id": "8pOQ-pWoHLdD",
        "outputId": "b97fc6f7-e708-4a89-a0c8-e5fd4c65f796"
      },
      "execution_count": null,
      "outputs": [
        {
          "output_type": "stream",
          "name": "stdout",
          "text": [
            "\n",
            "\tTwo-sided 95% bootstrap confidence interval for the true Pearson\n",
            "\tcorrelation coefficient based on 1000 bootstrap replications and the\n",
            "\tbca method\n",
            "\n",
            "Sample estimate: 0.83 \n",
            "Confidence interval:\n",
            "     2.5%     97.5% \n",
            "0.8081769 0.8475616 \n",
            "\n"
          ]
        }
      ]
    },
    {
      "cell_type": "markdown",
      "source": [
        "## BOX SIX\n"
      ],
      "metadata": {
        "id": "WtrAY4T0HfgU"
      }
    },
    {
      "cell_type": "code",
      "source": [
        "%%R\n",
        "# Data generation\n",
        "set.seed (1972)\n",
        "N <- 1000\n",
        "# Age (1: > 65; 0: <= 65)\n",
        "age <- rbinom(N, 1 ,0.6)\n",
        "# treatment (1: dual; 0=mono)\n",
        "treat <- rbinom(N,1,plogis (0.35 - 0.15*age))\n",
        "# Counterfactual outcome under A=1 and A=0 respectively\n",
        "death.1 <- rbinom(N,1,plogis(2 - 1*1 + 0.65*age))\n",
        "death.0 <- rbinom(N,1,plogis(2 - 1*0 + 0.65*age))\n",
        "# Observed outcome: mortality at 1 year after treatment initiation (1: death)\n",
        "death <- death.1*treat + death.0*(1 - treat)\n",
        "# One year mortality risk differences\n",
        "mean(death.1 - death.0)\n",
        "## -0.13            "
      ],
      "metadata": {
        "colab": {
          "base_uri": "https://localhost:8080/"
        },
        "id": "RbFnkFo-HhVj",
        "outputId": "5404d3e1-5c67-4399-b311-3e65d8eac09d"
      },
      "execution_count": null,
      "outputs": [
        {
          "output_type": "stream",
          "name": "stdout",
          "text": [
            "[1] -0.13\n"
          ]
        }
      ]
    },
    {
      "cell_type": "markdown",
      "source": [
        "## BOX SEVEN"
      ],
      "metadata": {
        "id": "mIqFEb5TH3Dc"
      }
    },
    {
      "cell_type": "code",
      "source": [
        "\n",
        "%%R\n",
        "# Delta method to derive the SE for the conditional RR\n",
        "data  <- as.data.frame(cbind(death , treat , age))\n",
        "m <- glm(death ~ age + treat, family = binomial, data = data)\n",
        "\n",
        "pMono <- predict(m, newdata = data.frame(age = 1, treat = 0), type = \"response\")\n",
        "pDual <- predict(m, newdata = data.frame(age = 0, treat = 1), type = \"response\")\n",
        "\n",
        "rr <- pMono / pDual;rr\n",
        "# Conditional Risk Ratio:  1.330238\n",
        "\n",
        "# The partial derivative are computed in R as follows:\n",
        "x1 <- 1\n",
        "x2 <- 0\n",
        "x3 <- 0\n",
        "x4 <- 1\n",
        "b0 <- coef(m)[1]\n",
        "b1 <- coef(m)[2]\n",
        "b2 <- coef(m)[3]\n",
        "e1 <- exp(- b0 - 1*b1 - 0*b2)\n",
        "e2 <- exp(- b0 - 0*b1 - 1*b2)\n",
        "p1 <- 1 / (1 + e1)\n",
        "p2 <- 1 / (1 + e2)\n",
        "# check rr \n",
        "p1/p2\n",
        "# 1.330238\n",
        "\n",
        "dfdb0 <- -e2*p1 + (1 + e2)*p1*(1 - p1)\n",
        "dfdb1 <- -x2*e2*p1 + (1 + e2)*x1*p1*(1 - p1)\n",
        "dfdb2 <- -x4*e2*p1 + (1 + e2)*x3*p1*(1 - p1)\n",
        "grad <- c(dfdb0, dfdb1, dfdb2)\n",
        "vG <- t(grad) %*% vcov(m) %*% (grad)\n",
        "se_rr <- c(sqrt(vG))\n",
        "se_rr\n",
        "# 0.06057779\n",
        "\n"
      ],
      "metadata": {
        "colab": {
          "base_uri": "https://localhost:8080/"
        },
        "id": "MQQR6JQUH4cD",
        "outputId": "c4281427-e0e9-4672-bae9-d1003660c26a"
      },
      "execution_count": null,
      "outputs": [
        {
          "output_type": "stream",
          "name": "stdout",
          "text": [
            "[1] 0.06057779\n"
          ]
        }
      ]
    },
    {
      "cell_type": "code",
      "source": [
        "\n",
        "%%R\n",
        "# Delta method to derive the SE for the conditional RR\n",
        "data  <- data.frame(cbind(death , treat , age))\n",
        "m <- glm(death ~ age + treat, family = binomial, data = data)\n",
        "pMono <- predict(m, newdata = data.frame(age = 1, treat = 0), type = \"response\")\n",
        "pDual <- predict(m, newdata = data.frame(age = 0, treat = 1), type = \"response\")\n",
        "rr <- pMono / pDual;rr\n",
        "# Conditional Risk Ratio:  1.330238\n",
        "\n",
        "# The partial derivative are computed in R as follows:\n",
        "x1 <- 1\n",
        "x2 <- 0\n",
        "x3 <- 0\n",
        "x4 <- 1\n",
        "b0 <- coef(m)[1]\n",
        "b1 <- coef(m)[2]\n",
        "b2 <- coef(m)[3]\n",
        "e1 <- exp(- b0 - 1*b1 - 0*b2)\n",
        "e2 <- exp(- b0 - 0*b1 - 1*b2)\n",
        "p1 <- 1 / (1 + e1)\n",
        "p2 <- 1 / (1 + e2)\n",
        "# check rr \n",
        "p1/p2\n",
        "# 1.330238\n",
        "\n",
        "dfdb0 <- -e2*p1 + (1 + e2)*p1*(1 - p1)\n",
        "dfdb1 <- -x2*e2*p1 + (1 + e2)*x1*p1*(1 - p1)\n",
        "dfdb2 <- -x4*e2*p1 + (1 + e2)*x3*p1*(1 - p1)\n",
        "grad <- c(dfdb0, dfdb1, dfdb2)\n",
        "vG <- t(grad) %*% vcov(m) %*% (grad)\n",
        "se_rr <- c(sqrt(vG))\n",
        "se_rr\n",
        "# 0.06057779\n",
        "\n"
      ],
      "metadata": {
        "colab": {
          "base_uri": "https://localhost:8080/"
        },
        "outputId": "e974347d-1c29-48b7-e30d-21aee3127749",
        "id": "-wTUeByvb1Hv"
      },
      "execution_count": null,
      "outputs": [
        {
          "output_type": "stream",
          "name": "stdout",
          "text": [
            "[1] 0.06057779\n"
          ]
        }
      ]
    },
    {
      "cell_type": "code",
      "source": [
        "\n",
        "%%R\n",
        "# Delta method to derive the SE for the conditional RR\n",
        "data  <- data.frame(cbind(death , treat , age))\n",
        "m <- glm(death ~ age + treat, family = binomial, data = data)\n",
        "pMono <- predict(m, newdata = data.frame(age = 1, treat = 0), type = \"response\")\n",
        "pDual <- predict(m, newdata = data.frame(age = 0, treat = 1), type = \"response\")\n",
        "rr <- pMono / pDual;rr\n",
        "# Conditional Risk Ratio:  1.330238\n",
        "\n",
        "# The partial derivative are computed in R as follows:\n",
        "x1 <- 1\n",
        "x2 <- 0\n",
        "x3 <- 0\n",
        "x4 <- 1\n",
        "b0 <- coef(m)[1]\n",
        "b1 <- coef(m)[2]\n",
        "b2 <- coef(m)[3]\n",
        "e1 <- exp(- b0 - 1*b1 - 0*b2)\n",
        "e2 <- exp(- b0 - 0*b1 - 1*b2)\n",
        "p1 <- 1 / (1 + e1)\n",
        "p2 <- 1 / (1 + e2)\n",
        "# check rr \n",
        "p1/p2\n",
        "# 1.330238\n",
        "\n"
      ],
      "metadata": {
        "colab": {
          "base_uri": "https://localhost:8080/"
        },
        "outputId": "61ea5efa-0f89-4cf2-ded7-86b69065c159",
        "id": "8NfYF6ZEcGVW"
      },
      "execution_count": null,
      "outputs": [
        {
          "output_type": "stream",
          "name": "stdout",
          "text": [
            "(Intercept) \n",
            "   1.330238 \n"
          ]
        }
      ]
    },
    {
      "cell_type": "code",
      "source": [
        "\n",
        "%%R\n",
        "# Delta method to derive the SE for the conditional RR\n",
        "data  <- data.frame(cbind(death , treat , age))\n",
        "m <- glm(death ~ age + treat, family = binomial, data = data)\n",
        "pMono <- predict(m, newdata = data.frame(age = 1, treat = 0), type = \"response\")\n",
        "pDual <- predict(m, newdata = data.frame(age = 0, treat = 1), type = \"response\")\n",
        "rr <- pMono / pDual;rr\n",
        "# Conditional Risk Ratio:  1.330238\n",
        "\n",
        "# The partial derivative are computed in R as follows:\n",
        "x1 <- 1\n",
        "x2 <- 0\n",
        "x3 <- 0\n",
        "x4 <- 1\n",
        "b0 <- coef(m)[1]\n",
        "b1 <- coef(m)[2]\n",
        "b2 <- coef(m)[3]\n",
        "e1 <- exp(- b0 - 1*b1 - 0*b2)\n",
        "e2 <- exp(- b0 - 0*b1 - 1*b2)\n",
        "p1 <- 1 / (1 + e1)\n",
        "p2 <- 1 / (1 + e2)\n",
        "# check rr \n",
        "p1/p2\n",
        "# 1.330238\n",
        "\n",
        "dfdb0 <- -e2*p1 + (1 + e2)*p1*(1 - p1)\n",
        "dfdb1 <- -x2*e2*p1 + (1 + e2)*x1*p1*(1 - p1)\n",
        "dfdb2 <- -x4*e2*p1 + (1 + e2)*x3*p1*(1 - p1)\n",
        "grad <- c(dfdb0, dfdb1, dfdb2)\n",
        "vG <- t(grad) %*% vcov(m) %*% (grad)\n",
        "se_rr <- c(sqrt(vG))\n",
        "se_rr\n",
        "# 0.06057779\n",
        "\n"
      ],
      "metadata": {
        "colab": {
          "base_uri": "https://localhost:8080/"
        },
        "outputId": "a2eccebb-cef3-4908-be4d-3284aee7e892",
        "id": "vBNutjnzcOFZ"
      },
      "execution_count": null,
      "outputs": [
        {
          "output_type": "stream",
          "name": "stdout",
          "text": [
            "[1] 0.06057779\n"
          ]
        }
      ]
    },
    {
      "cell_type": "code",
      "source": [
        "\n",
        "%%R\n",
        "# Delta method to derive the SE for the conditional RR\n",
        "data  <- data.frame(cbind(death , treat , age))\n",
        "m <- glm(death ~ age + treat, family = binomial, data = data)\n",
        "pMono <- predict(m, newdata = data.frame(age = 1, treat = 0), type = \"response\")\n",
        "pDual <- predict(m, newdata = data.frame(age = 0, treat = 1), type = \"response\")\n",
        "rr <- pMono / pDual;rr\n",
        "# Conditional Risk Ratio:  1.330238\n",
        "\n",
        "# The partial derivative are computed in R as follows:\n",
        "x1 <- 1\n",
        "x2 <- 0\n",
        "x3 <- 0\n",
        "x4 <- 1\n",
        "b0 <- coef(m)[1]\n",
        "b1 <- coef(m)[2]\n",
        "b2 <- coef(m)[3]\n",
        "e1 <- exp(- b0 - 1*b1 - 0*b2)\n",
        "e2 <- exp(- b0 - 0*b1 - 1*b2)\n",
        "p1 <- 1 / (1 + e1)\n",
        "p2 <- 1 / (1 + e2)\n",
        "# check rr \n",
        "rr <- p1/p2\n",
        "# 1.330238\n",
        "\n",
        "dfdb0 <- -e2*p1 + (1 + e2)*p1*(1 - p1)\n",
        "dfdb1 <- -x2*e2*p1 + (1 + e2)*x1*p1*(1 - p1)\n",
        "dfdb2 <- -x4*e2*p1 + (1 + e2)*x3*p1*(1 - p1)\n",
        "grad <- c(dfdb0, dfdb1, dfdb2)\n",
        "vG <- t(grad) %*% vcov(m) %*% (grad)\n",
        "se_rr <- c(sqrt(vG))\n",
        "se_rr\n",
        "# 0.06057779\n",
        "\n",
        "# Check with implemented delta-method in library msm \n",
        "library(msm)\n",
        "se_rr_delta <- deltamethod( ~(1 + exp(-x1 -0*x2 -1*x3)) /\n",
        "                                (1 + exp(-x1 -1*x2 -0*x3)), \n",
        "                            c(b0, b1, b2), \n",
        "                            vcov(m));se_rr_delta\n",
        "## 0.06057779\n",
        "# We obtain the same results for the SE of the RR computed before\n",
        "\n",
        "# Finally, we compute the type Wald 95% CI\n",
        "lb <- rr - qnorm(.975) * sqrt(vG)\n",
        "ub <- rr + qnorm(.975) * sqrt(vG)\n",
        "\n",
        "# Conditional Risk Ratio (95%CI)\n",
        "c(lb, ub)\n",
        "##  1.211508 1.448968"
      ],
      "metadata": {
        "colab": {
          "base_uri": "https://localhost:8080/"
        },
        "outputId": "a16937b2-91ef-4fa5-de62-6828d42d4d85",
        "id": "kNlMTv8UcgbQ"
      },
      "execution_count": null,
      "outputs": [
        {
          "output_type": "stream",
          "name": "stdout",
          "text": [
            "[1] 1.211508 1.448968\n"
          ]
        }
      ]
    },
    {
      "cell_type": "code",
      "source": [
        ""
      ],
      "metadata": {
        "id": "j2jqqbzhH-8l"
      },
      "execution_count": null,
      "outputs": []
    }
  ]
}